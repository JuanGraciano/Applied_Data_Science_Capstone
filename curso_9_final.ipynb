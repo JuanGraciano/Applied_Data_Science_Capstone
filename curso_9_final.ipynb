{
    "nbformat_minor": 1, 
    "cells": [
        {
            "source": "# Introduction\n\n\n\u201cWould you recommend a location in Dominican Republic to open a new park?\u201d\nThe government wants to open a new park. They said park has a lot of attraction and people can run, play, stay with their families, etc.\n\nThe government want to concentrated on selection of park location according to irs nearby environment. They has some locations where they want to concentrate the park.\n\nI work with my teammates and select 5 possible locations to build the park. Which location should be suggested to the stakeholder?\n", 
            "cell_type": "markdown", 
            "metadata": {
                "collapsed": true
            }
        }, 
        {
            "source": "# Data\n\nAccording to the question, following data are required.\n\n1. Geographic coordinate of Dominican Republic parks\nI need to compare 5 possible locations with current park in Dominican Republic. Therefore, I need to find a list of Dominican Republic parks and parks geographic coordinates.\n", 
            "cell_type": "markdown", 
            "metadata": {}
        }, 
        {
            "source": "# Import necessary library\nimport json\nimport pandas as pd", 
            "cell_type": "code", 
            "metadata": {}, 
            "outputs": [], 
            "execution_count": 127
        }, 
        {
            "source": "park_locations = [\n    { 'Location': 'Downtown Center', 'Address': 'Downtown Center Av. Nu\u00f1ez de Caceres, Av. R\u00f3mulo Betancourt esq, Santo Domingo 10114'},\n    { 'Location': 'Silver Sun Gallery', 'Address': 'Av. Tiradentes y Gustavo Mej\u00eda Ricard, Santo Domingo'},\n    { 'Location': 'Galer\u00eda 360', 'Address': 'Av. John F. Kennedy, Santo Domingo'},\n    { 'Location': 'Agora Mall', 'Address': 'Av. Abraham Lincoln y John F. Kennedy, Santo Domingo'},\n    { 'Location': 'Acropolis Center', 'Address': 'Av. Winston Churchill, Santo Domingo'},\n]", 
            "cell_type": "code", 
            "metadata": {}, 
            "outputs": [], 
            "execution_count": 128
        }, 
        {
            "source": "# install the google map api client library\n!pip install -U googlemaps", 
            "cell_type": "code", 
            "metadata": {}, 
            "outputs": [
                {
                    "output_type": "stream", 
                    "name": "stdout", 
                    "text": "Requirement already up-to-date: googlemaps in /opt/conda/envs/DSX-Python35/lib/python3.5/site-packages (3.0.2)\nRequirement not upgraded as not directly required: requests<3.0,>=2.11.1 in /opt/conda/envs/DSX-Python35/lib/python3.5/site-packages (from googlemaps) (2.18.4)\nRequirement not upgraded as not directly required: chardet<3.1.0,>=3.0.2 in /opt/conda/envs/DSX-Python35/lib/python3.5/site-packages (from requests<3.0,>=2.11.1->googlemaps) (3.0.4)\nRequirement not upgraded as not directly required: idna<2.7,>=2.5 in /opt/conda/envs/DSX-Python35/lib/python3.5/site-packages (from requests<3.0,>=2.11.1->googlemaps) (2.6)\nRequirement not upgraded as not directly required: urllib3<1.23,>=1.21.1 in /opt/conda/envs/DSX-Python35/lib/python3.5/site-packages (from requests<3.0,>=2.11.1->googlemaps) (1.22)\nRequirement not upgraded as not directly required: certifi>=2017.4.17 in /opt/conda/envs/DSX-Python35/lib/python3.5/site-packages (from requests<3.0,>=2.11.1->googlemaps) (2019.3.9)\n\u001b[31mtensorflow 1.3.0 requires tensorflow-tensorboard<0.2.0,>=0.1.0, which is not installed.\u001b[0m\n"
                }
            ], 
            "execution_count": 129
        }, 
        {
            "source": "# google_act = None\n# with open('google_map_act.json', 'r') as f:\n#     google_act = json.load(f)\n      \nGOOGLE_MAP_API_KEY = 'key'\nimport googlemaps\ngmaps = googlemaps.Client(key=GOOGLE_MAP_API_KEY)", 
            "cell_type": "code", 
            "metadata": {}, 
            "outputs": [], 
            "execution_count": 130
        }, 
        {
            "source": "# latlnt = gmaps.geocode('1600 Amphitheatre Parkway, Mountain View, CA')\n# print(latlnt)", 
            "cell_type": "code", 
            "metadata": {}, 
            "outputs": [], 
            "execution_count": 131
        }, 
        {
            "source": "# Retrieve geolocation and create the dataframe of pending cinema addresses\ndef getLatLng(address):\n    latlnt = gmaps.geocode('{}, Dominican Republic'.format(address))\n    return (latlnt[0]['geometry']['location']['lat'], latlnt[0]['geometry']['location']['lng'])", 
            "cell_type": "code", 
            "metadata": {}, 
            "outputs": [], 
            "execution_count": 132
        }, 
        {
            "source": "for loc in park_locations:        \n    (lat, lng) = getLatLng(loc['Address'])\n    loc['Latitude'] = lat\n    loc['Longitude'] = lng\n    \ndf_park_locations = pd.DataFrame(park_locations, columns=['Location', 'Address', 'Latitude', 'Longitude'])\ndf_park_locations", 
            "cell_type": "code", 
            "metadata": {}, 
            "outputs": [
                {
                    "output_type": "execute_result", 
                    "data": {
                        "text/plain": "             Location                                            Address  \\\n0     Downtown Center  Downtown Center Av. Nu\u00f1ez de Caceres, Av. R\u00f3mu...   \n1  Silver Sun Gallery  Av. Tiradentes y Gustavo Mej\u00eda Ricard, Santo D...   \n2         Galer\u00eda 360                 Av. John F. Kennedy, Santo Domingo   \n3          Agora Mall  Av. Abraham Lincoln y John F. Kennedy, Santo D...   \n4    Acropolis Center               Av. Winston Churchill, Santo Domingo   \n\n    Latitude  Longitude  \n0  18.451144 -69.952780  \n1  18.475384 -69.926768  \n2  18.483480 -69.936245  \n3  18.483768 -69.939700  \n4  18.471961 -69.941209  ", 
                        "text/html": "<div>\n<style scoped>\n    .dataframe tbody tr th:only-of-type {\n        vertical-align: middle;\n    }\n\n    .dataframe tbody tr th {\n        vertical-align: top;\n    }\n\n    .dataframe thead th {\n        text-align: right;\n    }\n</style>\n<table border=\"1\" class=\"dataframe\">\n  <thead>\n    <tr style=\"text-align: right;\">\n      <th></th>\n      <th>Location</th>\n      <th>Address</th>\n      <th>Latitude</th>\n      <th>Longitude</th>\n    </tr>\n  </thead>\n  <tbody>\n    <tr>\n      <th>0</th>\n      <td>Downtown Center</td>\n      <td>Downtown Center Av. Nu\u00f1ez de Caceres, Av. R\u00f3mu...</td>\n      <td>18.451144</td>\n      <td>-69.952780</td>\n    </tr>\n    <tr>\n      <th>1</th>\n      <td>Silver Sun Gallery</td>\n      <td>Av. Tiradentes y Gustavo Mej\u00eda Ricard, Santo D...</td>\n      <td>18.475384</td>\n      <td>-69.926768</td>\n    </tr>\n    <tr>\n      <th>2</th>\n      <td>Galer\u00eda 360</td>\n      <td>Av. John F. Kennedy, Santo Domingo</td>\n      <td>18.483480</td>\n      <td>-69.936245</td>\n    </tr>\n    <tr>\n      <th>3</th>\n      <td>Agora Mall</td>\n      <td>Av. Abraham Lincoln y John F. Kennedy, Santo D...</td>\n      <td>18.483768</td>\n      <td>-69.939700</td>\n    </tr>\n    <tr>\n      <th>4</th>\n      <td>Acropolis Center</td>\n      <td>Av. Winston Churchill, Santo Domingo</td>\n      <td>18.471961</td>\n      <td>-69.941209</td>\n    </tr>\n  </tbody>\n</table>\n</div>"
                    }, 
                    "execution_count": 133, 
                    "metadata": {}
                }
            ], 
            "execution_count": 133
        }, 
        {
            "source": "possible_park_locations = [\n    { 'Location': 'L1', 'Address': 'Bosque de la Vida, Santo Domingo'},\n    { 'Location': 'L2', 'Address': 'Club Los Prados, Inc., Santo Domingo'},\n    { 'Location': 'L3', 'Address': 'Club Deportivo y Cultural Metropolitano, Santo Domingo'},\n    { 'Location': 'L4', 'Address': 'Fuente Centro de los Heroes, Santo Domingo'},\n    { 'Location': 'L5', 'Address': 'Estadio La Normal, Santo Domingo'},\n]", 
            "cell_type": "code", 
            "metadata": {}, 
            "outputs": [], 
            "execution_count": 134
        }, 
        {
            "source": "for loc in possible_park_locations:        \n    (lat, lng) = getLatLng(loc['Address'])\n    loc['Latitude'] = lat\n    loc['Longitude'] = lng\n    \ndf_possible_park_locations = pd.DataFrame(possible_park_locations, columns=['Location', 'Address', 'Latitude', 'Longitude'])\ndf_possible_park_locations", 
            "cell_type": "code", 
            "metadata": {}, 
            "outputs": [
                {
                    "output_type": "execute_result", 
                    "data": {
                        "text/plain": "  Location                                            Address   Latitude  \\\n0       L1                   Bosque de la Vida, Santo Domingo  18.478150   \n1       L2               Club Los Prados, Inc., Santo Domingo  18.472567   \n2       L3  Club Deportivo y Cultural Metropolitano, Santo...  18.465488   \n3       L4         Fuente Centro de los Heroes, Santo Domingo  18.448865   \n4       L5                   Estadio La Normal, Santo Domingo  18.491626   \n\n   Longitude  \n0 -69.935772  \n1 -69.956904  \n2 -69.951870  \n3 -69.926187  \n4 -69.899758  ", 
                        "text/html": "<div>\n<style scoped>\n    .dataframe tbody tr th:only-of-type {\n        vertical-align: middle;\n    }\n\n    .dataframe tbody tr th {\n        vertical-align: top;\n    }\n\n    .dataframe thead th {\n        text-align: right;\n    }\n</style>\n<table border=\"1\" class=\"dataframe\">\n  <thead>\n    <tr style=\"text-align: right;\">\n      <th></th>\n      <th>Location</th>\n      <th>Address</th>\n      <th>Latitude</th>\n      <th>Longitude</th>\n    </tr>\n  </thead>\n  <tbody>\n    <tr>\n      <th>0</th>\n      <td>L1</td>\n      <td>Bosque de la Vida, Santo Domingo</td>\n      <td>18.478150</td>\n      <td>-69.935772</td>\n    </tr>\n    <tr>\n      <th>1</th>\n      <td>L2</td>\n      <td>Club Los Prados, Inc., Santo Domingo</td>\n      <td>18.472567</td>\n      <td>-69.956904</td>\n    </tr>\n    <tr>\n      <th>2</th>\n      <td>L3</td>\n      <td>Club Deportivo y Cultural Metropolitano, Santo...</td>\n      <td>18.465488</td>\n      <td>-69.951870</td>\n    </tr>\n    <tr>\n      <th>3</th>\n      <td>L4</td>\n      <td>Fuente Centro de los Heroes, Santo Domingo</td>\n      <td>18.448865</td>\n      <td>-69.926187</td>\n    </tr>\n    <tr>\n      <th>4</th>\n      <td>L5</td>\n      <td>Estadio La Normal, Santo Domingo</td>\n      <td>18.491626</td>\n      <td>-69.899758</td>\n    </tr>\n  </tbody>\n</table>\n</div>"
                    }, 
                    "execution_count": 135, 
                    "metadata": {}
                }
            ], 
            "execution_count": 135
        }, 
        {
            "source": "government_favorite_parks = [\n    {'Name': 'Bella Vista Mall', 'Rating': 4.5},\n    {'Name': 'Acropolis Center', 'Rating': 4.5},\n    {'Name': 'Downtown Center', 'Rating': 4.3},\n    {'Name': 'Silver Sun Gallery', 'Rating': 3.4},\n    {'Name': 'Agora Mall', 'Rating': 2.3},\n    {'Name': 'Galer\u00eda 360', 'Rating': 1.5},\n]\n\ndf_government_favorite_parks = pd.DataFrame(government_favorite_parks, columns=['Name','Rating'])\ndf_government_favorite_parks", 
            "cell_type": "code", 
            "metadata": {}, 
            "outputs": [
                {
                    "output_type": "execute_result", 
                    "data": {
                        "text/plain": "                 Name  Rating\n0    Bella Vista Mall     4.5\n1    Acropolis Center     4.5\n2     Downtown Center     4.3\n3  Silver Sun Gallery     3.4\n4          Agora Mall     2.3\n5         Galer\u00eda 360     1.5", 
                        "text/html": "<div>\n<style scoped>\n    .dataframe tbody tr th:only-of-type {\n        vertical-align: middle;\n    }\n\n    .dataframe tbody tr th {\n        vertical-align: top;\n    }\n\n    .dataframe thead th {\n        text-align: right;\n    }\n</style>\n<table border=\"1\" class=\"dataframe\">\n  <thead>\n    <tr style=\"text-align: right;\">\n      <th></th>\n      <th>Name</th>\n      <th>Rating</th>\n    </tr>\n  </thead>\n  <tbody>\n    <tr>\n      <th>0</th>\n      <td>Bella Vista Mall</td>\n      <td>4.5</td>\n    </tr>\n    <tr>\n      <th>1</th>\n      <td>Acropolis Center</td>\n      <td>4.5</td>\n    </tr>\n    <tr>\n      <th>2</th>\n      <td>Downtown Center</td>\n      <td>4.3</td>\n    </tr>\n    <tr>\n      <th>3</th>\n      <td>Silver Sun Gallery</td>\n      <td>3.4</td>\n    </tr>\n    <tr>\n      <th>4</th>\n      <td>Agora Mall</td>\n      <td>2.3</td>\n    </tr>\n    <tr>\n      <th>5</th>\n      <td>Galer\u00eda 360</td>\n      <td>1.5</td>\n    </tr>\n  </tbody>\n</table>\n</div>"
                    }, 
                    "execution_count": 136, 
                    "metadata": {}
                }
            ], 
            "execution_count": 136
        }, 
        {
            "source": "The recommended park location needs to have many eating and shopping venues nearby. Convenient public transport is also required.\nThese data can be found by using FourSquare API to find these venues around the location. The radius of exploration distance is set to 500 meters, which is about 5 minutes walking distance.", 
            "cell_type": "markdown", 
            "metadata": {}
        }, 
        {
            "source": "\nfs_categories = {\n    'Food': '4d4b7105d754a06374d81259',\n    'Shop & Service': '4d4b7105d754a06378d81259',\n    'Bus Stop': '52f2ab2ebcbc57f1066b8b4f',\n    'Metro Station': '4bf58dd8d48988d1fd931735',\n    'Nightlife Spot': '4d4b7105d754a06376d81259',\n    'Arts & Entertainment': '4d4b7104d754a06370d81259'\n}", 
            "cell_type": "code", 
            "metadata": {}, 
            "outputs": [], 
            "execution_count": 137
        }, 
        {
            "source": "# Install FourSquare client library\n!pip install foursquare", 
            "cell_type": "code", 
            "metadata": {}, 
            "outputs": [
                {
                    "output_type": "stream", 
                    "name": "stdout", 
                    "text": "Requirement already satisfied: foursquare in /opt/conda/envs/DSX-Python35/lib/python3.5/site-packages (1!2019.2.16)\nRequirement already satisfied: requests>=2.1 in /opt/conda/envs/DSX-Python35/lib/python3.5/site-packages (from foursquare) (2.18.4)\nRequirement already satisfied: six in /opt/conda/envs/DSX-Python35/lib/python3.5/site-packages (from foursquare) (1.11.0)\nRequirement already satisfied: chardet<3.1.0,>=3.0.2 in /opt/conda/envs/DSX-Python35/lib/python3.5/site-packages (from requests>=2.1->foursquare) (3.0.4)\nRequirement already satisfied: idna<2.7,>=2.5 in /opt/conda/envs/DSX-Python35/lib/python3.5/site-packages (from requests>=2.1->foursquare) (2.6)\nRequirement already satisfied: urllib3<1.23,>=1.21.1 in /opt/conda/envs/DSX-Python35/lib/python3.5/site-packages (from requests>=2.1->foursquare) (1.22)\nRequirement already satisfied: certifi>=2017.4.17 in /opt/conda/envs/DSX-Python35/lib/python3.5/site-packages (from requests>=2.1->foursquare) (2019.3.9)\n\u001b[31mtensorflow 1.3.0 requires tensorflow-tensorboard<0.2.0,>=0.1.0, which is not installed.\u001b[0m\n"
                }
            ], 
            "execution_count": 138
        }, 
        {
            "source": "import foursquare\nfrom pandas.io.json import json_normalize # tranform JSON file into a pandas dataframe\nCLIENT_ID = 'client'\nCLIENT_SECRET='secet'\nfs = foursquare.Foursquare(client_id=CLIENT_ID, client_secret=CLIENT_SECRET)", 
            "cell_type": "code", 
            "metadata": {}, 
            "outputs": [], 
            "execution_count": 139
        }, 
        {
            "source": "RADIUS = 500 # 500m, around 5 minutes walking time\n\n# Define a function to search nearby information and convert the result as dataframe\ndef venues_nearby(latitude, longitude, category, verbose=True):    \n    results = fs.venues.search(\n        params = {\n            'query': category, \n            'll': '{},{}'.format(latitude, longitude),\n            'radius': RADIUS,\n            'categoryId': fs_categories[category]\n        }\n    )    \n    df = json_normalize(results['venues'])\n    cols = ['Name','Latitude','Longitude']    \n    if( len(df) == 0 ):        \n        df = pd.DataFrame(columns=cols)\n    else:\n        df.columns\n        print(df.columns)\n        df = df[['name','location.lat','location.lng']]\n        df.columns = cols\n    if( verbose ):\n        print('{} \"{}\" venues are found within {}m of location'.format(len(df), category, RADIUS))\n    return df", 
            "cell_type": "code", 
            "metadata": {}, 
            "outputs": [], 
            "execution_count": 140
        }, 
        {
            "source": "df_park_locations.loc[0]", 
            "cell_type": "code", 
            "metadata": {}, 
            "outputs": [
                {
                    "output_type": "execute_result", 
                    "data": {
                        "text/plain": "Location                                       Downtown Center\nAddress      Downtown Center Av. Nu\u00f1ez de Caceres, Av. R\u00f3mu...\nLatitude                                               18.4511\nLongitude                                             -69.9528\nName: 0, dtype: object"
                    }, 
                    "execution_count": 141, 
                    "metadata": {}
                }
            ], 
            "execution_count": 141
        }, 
        {
            "source": "venues_nearby(df_park_locations.loc[0]['Latitude'], df_park_locations.loc[0]['Longitude'], 'Metro Station').head()", 
            "cell_type": "code", 
            "metadata": {}, 
            "outputs": [
                {
                    "output_type": "stream", 
                    "name": "stdout", 
                    "text": "0 \"Metro Station\" venues are found within 500m of location\n"
                }, 
                {
                    "output_type": "execute_result", 
                    "data": {
                        "text/plain": "Empty DataFrame\nColumns: [Name, Latitude, Longitude]\nIndex: []", 
                        "text/html": "<div>\n<style scoped>\n    .dataframe tbody tr th:only-of-type {\n        vertical-align: middle;\n    }\n\n    .dataframe tbody tr th {\n        vertical-align: top;\n    }\n\n    .dataframe thead th {\n        text-align: right;\n    }\n</style>\n<table border=\"1\" class=\"dataframe\">\n  <thead>\n    <tr style=\"text-align: right;\">\n      <th></th>\n      <th>Name</th>\n      <th>Latitude</th>\n      <th>Longitude</th>\n    </tr>\n  </thead>\n  <tbody>\n  </tbody>\n</table>\n</div>"
                    }, 
                    "execution_count": 142, 
                    "metadata": {}
                }
            ], 
            "execution_count": 142
        }, 
        {
            "source": "venues_nearby(df_park_locations.loc[0]['Latitude'], df_park_locations.loc[0]['Longitude'], 'Bus Stop').head()", 
            "cell_type": "code", 
            "metadata": {}, 
            "outputs": [
                {
                    "output_type": "stream", 
                    "name": "stdout", 
                    "text": "0 \"Bus Stop\" venues are found within 500m of location\n"
                }, 
                {
                    "output_type": "execute_result", 
                    "data": {
                        "text/plain": "Empty DataFrame\nColumns: [Name, Latitude, Longitude]\nIndex: []", 
                        "text/html": "<div>\n<style scoped>\n    .dataframe tbody tr th:only-of-type {\n        vertical-align: middle;\n    }\n\n    .dataframe tbody tr th {\n        vertical-align: top;\n    }\n\n    .dataframe thead th {\n        text-align: right;\n    }\n</style>\n<table border=\"1\" class=\"dataframe\">\n  <thead>\n    <tr style=\"text-align: right;\">\n      <th></th>\n      <th>Name</th>\n      <th>Latitude</th>\n      <th>Longitude</th>\n    </tr>\n  </thead>\n  <tbody>\n  </tbody>\n</table>\n</div>"
                    }, 
                    "execution_count": 143, 
                    "metadata": {}
                }
            ], 
            "execution_count": 143
        }, 
        {
            "source": "venues_nearby(df_park_locations.loc[0]['Latitude'], df_park_locations.loc[0]['Longitude'], 'Food').head()", 
            "cell_type": "code", 
            "metadata": {}, 
            "outputs": [
                {
                    "output_type": "stream", 
                    "name": "stdout", 
                    "text": "Index(['categories', 'hasPerk', 'id', 'location.address', 'location.cc',\n       'location.city', 'location.country', 'location.crossStreet',\n       'location.distance', 'location.formattedAddress',\n       'location.labeledLatLngs', 'location.lat', 'location.lng',\n       'location.neighborhood', 'location.postalCode', 'location.state',\n       'name', 'referralId'],\n      dtype='object')\n8 \"Food\" venues are found within 500m of location\n"
                }, 
                {
                    "output_type": "execute_result", 
                    "data": {
                        "text/plain": "                               Name   Latitude  Longitude\n0         Ohen Brasserie Food truck  18.454913 -69.953854\n1                      Food Inc. RD  18.453035 -69.948740\n2  El Rancho Steak and Mexican Food  18.450908 -69.952420\n3                    The Food Shack  18.452681 -69.949616\n4        Stavrou's Greek Food Truck  18.450697 -69.948527", 
                        "text/html": "<div>\n<style scoped>\n    .dataframe tbody tr th:only-of-type {\n        vertical-align: middle;\n    }\n\n    .dataframe tbody tr th {\n        vertical-align: top;\n    }\n\n    .dataframe thead th {\n        text-align: right;\n    }\n</style>\n<table border=\"1\" class=\"dataframe\">\n  <thead>\n    <tr style=\"text-align: right;\">\n      <th></th>\n      <th>Name</th>\n      <th>Latitude</th>\n      <th>Longitude</th>\n    </tr>\n  </thead>\n  <tbody>\n    <tr>\n      <th>0</th>\n      <td>Ohen Brasserie Food truck</td>\n      <td>18.454913</td>\n      <td>-69.953854</td>\n    </tr>\n    <tr>\n      <th>1</th>\n      <td>Food Inc. RD</td>\n      <td>18.453035</td>\n      <td>-69.948740</td>\n    </tr>\n    <tr>\n      <th>2</th>\n      <td>El Rancho Steak and Mexican Food</td>\n      <td>18.450908</td>\n      <td>-69.952420</td>\n    </tr>\n    <tr>\n      <th>3</th>\n      <td>The Food Shack</td>\n      <td>18.452681</td>\n      <td>-69.949616</td>\n    </tr>\n    <tr>\n      <th>4</th>\n      <td>Stavrou's Greek Food Truck</td>\n      <td>18.450697</td>\n      <td>-69.948527</td>\n    </tr>\n  </tbody>\n</table>\n</div>"
                    }, 
                    "execution_count": 144, 
                    "metadata": {}
                }
            ], 
            "execution_count": 144
        }, 
        {
            "source": "venues_nearby(df_park_locations.loc[0]['Latitude'], df_park_locations.loc[0]['Longitude'], 'Arts & Entertainment').head()", 
            "cell_type": "code", 
            "metadata": {}, 
            "outputs": [
                {
                    "output_type": "stream", 
                    "name": "stdout", 
                    "text": "0 \"Arts & Entertainment\" venues are found within 500m of location\n"
                }, 
                {
                    "output_type": "execute_result", 
                    "data": {
                        "text/plain": "Empty DataFrame\nColumns: [Name, Latitude, Longitude]\nIndex: []", 
                        "text/html": "<div>\n<style scoped>\n    .dataframe tbody tr th:only-of-type {\n        vertical-align: middle;\n    }\n\n    .dataframe tbody tr th {\n        vertical-align: top;\n    }\n\n    .dataframe thead th {\n        text-align: right;\n    }\n</style>\n<table border=\"1\" class=\"dataframe\">\n  <thead>\n    <tr style=\"text-align: right;\">\n      <th></th>\n      <th>Name</th>\n      <th>Latitude</th>\n      <th>Longitude</th>\n    </tr>\n  </thead>\n  <tbody>\n  </tbody>\n</table>\n</div>"
                    }, 
                    "execution_count": 145, 
                    "metadata": {}
                }
            ], 
            "execution_count": 145
        }, 
        {
            "source": "# Methodology", 
            "cell_type": "markdown", 
            "metadata": {}
        }, 
        {
            "source": "Combine with FourSquare API which provides how many venues in different category of Dominican Republic parks, a matrix which captured characteristic of venues nearby park are built. Stakeholder's favorite list is the profile to combine with the matrix to become a weighted matrix of favorite cinema.\n\nThe weighted matrix can be applied on 5 target locations with venues information to generate a ranking result. The the top one on the ranking list can be recommended to the stakeholder.", 
            "cell_type": "markdown", 
            "metadata": {}
        }, 
        {
            "source": "park_locations_foursquare = [\n    {\"place\":\"Acropolis Center\", \"address\":\"Av. Winston Churchill\", \"category\":\"Food\", \"name\":\"hooters\"},\n        {\"place\":\"Acropolis Center\", \"address\":\"Av. Winston Churchill\", \"category\":\"Food\", \"name\":\"hooters\"},\n        {\"place\":\"Acropolis Center\", \"address\":\"Av. Winston Churchill\", \"category\":\"Shop & Service\", \"name\":\"Claro\"},\n        {\"place\":\"Acropolis Center\", \"address\":\"Av. Winston Churchill\", \"category\":\"Shop & Service\", \"name\":\"Claro\"},\n        {\"place\":\"Agora Mall\", \"address\":\"Av. Abraham Lincoln y John F. Kennedy\", \"category\":\"Food\", \"name\":\"hooters\"},\n        {\"place\":\"Agora Mall\", \"address\":\"Av. Abraham Lincoln y John F. Kennedy\", \"category\":\"Food\", \"name\":\"hooters\"},\n        {\"place\":\"Agora Mall\", \"address\":\"Av. Abraham Lincoln y John F. Kennedy\", \"category\":\"Shop & Service\", \"name\":\"Claro\"},\n        {\"place\":\"Agora Mall\", \"address\":\"Av. Abraham Lincoln y John F. Kennedy\", \"category\":\"Shop & Service\", \"name\":\"altice\"},\n        {\"place\":\"Agora Mall\", \"address\":\"Av. Abraham Lincoln y John F. Kennedy\", \"category\":\"Arts & Entertainment\", \"name\":\"Palacio del Cine\"},\n        {\"place\":\"Agora Mall\", \"address\":\"Av. Abraham Lincoln y John F. Kennedy\", \"category\":\"Food\", \"name\":\"hooters\"},\n        {\"place\":\"Bella Vista Mall\", \"address\":\"Av. Sarasota\", \"category\":\"Food\", \"name\":\"hooters\"},\n        {\"place\":\"Bella Vista Mall\", \"address\":\"Av. Sarasota\", \"category\":\"Food\", \"name\":\"hooters\"},\n        {\"place\":\"Bella Vista Mall\", \"address\":\"Av. Sarasota\", \"category\":\"Food\", \"name\":\"hooters\"},\n        {\"place\":\"Bella Vista Mall\", \"address\":\"Av. Sarasota\", \"category\":\"Food\", \"name\":\"hooters\"},\n        {\"place\":\"Blue Mall\", \"address\":\"Av. Winston Churchill y Gustavo M. Ricart\", \"category\":\"Arts & Entertainment\", \"name\":\"Palacio del Cine\"},\n        {\"place\":\"Blue Mall\", \"address\":\"Av. Winston Churchill y Gustavo M. Ricart\", \"category\":\"Shop & Service\", \"name\":\"Claro\"},\n        {\"place\":\"Blue Mall\", \"address\":\"Av. Winston Churchill y Gustavo M. Ricart\", \"category\":\"Shop & Service\", \"name\":\"Claro\"},\n        {\"place\":\"Blue Mall\", \"address\":\"Av. Winston Churchill y Gustavo M. Ricart\", \"category\":\"Shop & Service\", \"name\":\"Claro\"},\n        {\"place\":\"Blue Mall\", \"address\":\"Av. Winston Churchill y Gustavo M. Ricart\", \"category\":\"Food\", \"name\":\"hooters\"},\n        {\"place\":\"Blue Mall\", \"address\":\"Av. Winston Churchill y Gustavo M. Ricart\", \"category\":\"Food\", \"name\":\"hooters\"},\n        {\"place\":\"Blue Mall\", \"address\":\"Av. Winston Churchill y Gustavo M. Ricart\", \"category\":\"Food\", \"name\":\"hooters\"},\n        {\"place\":\"Blue Mall\", \"address\":\"Av. Winston Churchill y Gustavo M. Ricart\", \"category\":\"Food\", \"name\":\"hooters\"},\n        {\"place\":\"Downtown Center\", \"address\":\"Av. Nu\u00f1ez de Caceres esq. R\u00f3mulo Betancourt, Bella Vista\", \"category\":\"Shop & Service\", \"name\":\"Claro\"},\n        {\"place\":\"Downtown Center\", \"address\":\"Av. Nu\u00f1ez de Caceres esq. R\u00f3mulo Betancourt, Bella Vista\", \"category\":\"Shop & Service\", \"name\":\"Claro\"},\n        {\"place\":\"Downtown Center\", \"address\":\"Av. Nu\u00f1ez de Caceres esq. R\u00f3mulo Betancourt, Bella Vista\", \"category\":\"Arts & Entertainment\", \"name\":\"Palacio del Cine\"},\n        {\"place\":\"Downtown Center\", \"address\":\"Av. Nu\u00f1ez de Caceres esq. R\u00f3mulo Betancourt, Bella Vista\", \"category\":\"Food\", \"name\":\"hooters\"},\n        {\"place\":\"Downtown Center\", \"address\":\"Av. Nu\u00f1ez de Caceres esq. R\u00f3mulo Betancourt, Bella Vista\", \"category\":\"Food\", \"name\":\"hooters\"},\n        {\"place\":\"Downtown Center\", \"address\":\"Av. Nu\u00f1ez de Caceres esq. R\u00f3mulo Betancourt, Bella Vista\", \"category\":\"Food\", \"name\":\"hooters\"},\n        {\"place\":\"Downtown Center\", \"address\":\"Av. Nu\u00f1ez de Caceres esq. R\u00f3mulo Betancourt, Bella Vista\", \"category\":\"Food\", \"name\":\"hooters\"},\n        {\"place\":\"Downtown Center\", \"address\":\"Av. Nu\u00f1ez de Caceres esq. R\u00f3mulo Betancourt, Bella Vista\", \"category\":\"Food\", \"name\":\"hooters\"},\n        {\"place\":\"Downtown Center\", \"address\":\"Av. Nu\u00f1ez de Caceres esq. R\u00f3mulo Betancourt, Bella Vista\", \"category\":\"Food\", \"name\":\"hooters\"},\n        {\"place\":\"Galer\u00eda 360\", \"address\":\"Av. John F. Kennedy\", \"category\":\"Metro Station\", \"name\":\"hooters\"},\n        {\"place\":\"Galer\u00eda 360\", \"address\":\"Av. John F. Kennedy\", \"category\":\"Shop & Service\", \"name\":\"Claro\"},\n        {\"place\":\"Galer\u00eda 360\", \"address\":\"Av. John F. Kennedy\", \"category\":\"Shop & Service\", \"name\":\"Claro\"},\n        {\"place\":\"Galer\u00eda 360\", \"address\":\"Av. John F. Kennedy\", \"category\":\"Shop & Service\", \"name\":\"Claro\"},\n        {\"place\":\"Galer\u00eda 360\", \"address\":\"Av. John F. Kennedy\", \"category\":\"Shop & Service\", \"name\":\"Claro\"},\n        {\"place\":\"Galer\u00eda 360\", \"address\":\"Av. John F. Kennedy\", \"category\":\"Food\", \"name\":\"hooters\"},\n        {\"place\":\"Galer\u00eda 360\", \"address\":\"Av. John F. Kennedy\", \"category\":\"Food\", \"name\":\"hooters\"},\n        {\"place\":\"Galer\u00eda 360\", \"address\":\"Av. John F. Kennedy\", \"category\":\"Food\", \"name\":\"hooters\"},\n        {\"place\":\"Galer\u00eda 360\", \"address\":\"Av. John F. Kennedy\", \"category\":\"Food\", \"name\":\"hooters\"},\n        {\"place\":\"Diamond Plaza\", \"address\":\"Av. Los Proceres\", \"category\":\"Arts & Entertainment\", \"name\":\"hooters\"},\n        {\"place\":\"Diamond Plaza\", \"address\":\"Av. Los Proceres\", \"category\":\"Food\", \"name\":\"hooters\"},\n        {\"place\":\"Diamond Plaza\", \"address\":\"Av. Los Proceres\", \"category\":\"Food\", \"name\":\"hooters\"},\n        {\"place\":\"Novo Centro\", \"address\":\"Av. Lope de Vega, entre Roberto Pastoriza y Gustavo Mej\u00eda Ricart\", \"category\":\"Arts & Entertainment\", \"name\":\"Palacio del Cine\"},\n        {\"place\":\"Novo Centro\", \"address\":\"Av. Lope de Vega, entre Roberto Pastoriza y Gustavo Mej\u00eda Ricart\", \"category\":\"Food\", \"name\":\"hooters\"},\n        {\"place\":\"Novo Centro\", \"address\":\"Av. Lope de Vega, entre Roberto Pastoriza y Gustavo Mej\u00eda Ricart\", \"category\":\"Food\", \"name\":\"hooters\"},\n        {\"place\":\"Centro Comercial Sambil\", \"address\":\"Av. John F. Kennedy y M\u00e1ximo G\u00f3mez\", \"category\":\"Metro Station\", \"name\":\"hooters\"},\n        {\"place\":\"Centro Comercial Sambil\", \"address\":\"Av. John F. Kennedy y M\u00e1ximo G\u00f3mez\", \"category\":\"Shop & Service\", \"name\":\"Claro\"},\n        {\"place\":\"Centro Comercial Sambil\", \"address\":\"Av. John F. Kennedy y M\u00e1ximo G\u00f3mez\", \"category\":\"Shop & Service\", \"name\":\"Claro\"},\n        {\"place\":\"Centro Comercial Sambil\", \"address\":\"Av. John F. Kennedy y M\u00e1ximo G\u00f3mez\", \"category\":\"Shop & Service\", \"name\":\"Claro\"},\n        {\"place\":\"Centro Comercial Sambil\", \"address\":\"Av. John F. Kennedy y M\u00e1ximo G\u00f3mez\", \"category\":\"Shop & Service\", \"name\":\"Claro\"},\n        {\"place\":\"Centro Comercial Sambil\", \"address\":\"Av. John F. Kennedy y M\u00e1ximo G\u00f3mez\", \"category\":\"Shop & Service\", \"name\":\"Claro\"},\n        {\"place\":\"Centro Comercial Sambil\", \"address\":\"Av. John F. Kennedy y M\u00e1ximo G\u00f3mez\", \"category\":\"Arts & Entertainment\", \"name\":\"Palacio del Cine\"},\n        {\"place\":\"Centro Comercial Sambil\", \"address\":\"Av. John F. Kennedy y M\u00e1ximo G\u00f3mez\", \"category\":\"Food\", \"name\":\"hooters\"},\n        {\"place\":\"Centro Comercial Sambil\", \"address\":\"Av. John F. Kennedy y M\u00e1ximo G\u00f3mez\", \"category\":\"Food\", \"name\":\"hooters\"},\n        {\"place\":\"Centro Comercial Sambil\", \"address\":\"Av. John F. Kennedy y M\u00e1ximo G\u00f3mez\", \"category\":\"Food\", \"name\":\"hooters\"},\n        {\"place\":\"Centro Comercial Sambil\", \"address\":\"Av. John F. Kennedy y M\u00e1ximo G\u00f3mez\", \"category\":\"Food\", \"name\":\"hooters\"},\n        {\"place\":\"Silver Sun Gallery\", \"address\":\"Av. Tiradentes y Gustavo Mej\u00eda Ricard\", \"category\":\"Arts & Entertainment\", \"name\":\"Palacio del Cine\"},\n        {\"place\":\"Silver Sun Gallery\", \"address\":\"Av. Tiradentes y Gustavo Mej\u00eda Ricard\", \"category\":\"Shop & Service\", \"name\":\"Claro\"},\n        {\"place\":\"Silver Sun Gallery\", \"address\":\"Av. Tiradentes y Gustavo Mej\u00eda Ricard\", \"category\":\"Shop & Service\", \"name\":\"Claro\"},\n        {\"place\":\"Silver Sun Gallery\", \"address\":\"Av. Tiradentes y Gustavo Mej\u00eda Ricard\", \"category\":\"Shop & Service\", \"name\":\"Claro\"},\n        {\"place\":\"Silver Sun Gallery\", \"address\":\"Av. Tiradentes y Gustavo Mej\u00eda Ricard\", \"category\":\"Shop & Service\", \"name\":\"Claro\"},\n        {\"place\":\"Silver Sun Gallery\", \"address\":\"Av. Tiradentes y Gustavo Mej\u00eda Ricard\", \"category\":\"Shop & Service\", \"name\":\"Claro\"},\n        {\"place\":\"Silver Sun Gallery\", \"address\":\"Av. Tiradentes y Gustavo Mej\u00eda Ricard\", \"category\":\"Shop & Service\", \"name\":\"Claro\"},\n        {\"place\":\"Silver Sun Gallery\", \"address\":\"Av. Tiradentes y Gustavo Mej\u00eda Ricard\", \"category\":\"Food\", \"name\":\"hooters\"},\n        {\"place\":\"Silver Sun Gallery\", \"address\":\"Av. Tiradentes y Gustavo Mej\u00eda Ricard\", \"category\":\"Food\", \"name\":\"hooters\"},\n        {\"place\":\"Silver Sun Gallery\", \"address\":\"Av. Tiradentes y Gustavo Mej\u00eda Ricard\", \"category\":\"Food\", \"name\":\"hooters\"},\n        {\"place\":\"Silver Sun Gallery\", \"address\":\"Av. Tiradentes y Gustavo Mej\u00eda Ricard\", \"category\":\"Food\", \"name\":\"hooters\"},\n        {\"place\":\"Silver Sun Gallery\", \"address\":\"Av. Tiradentes y Gustavo Mej\u00eda Ricard\", \"category\":\"Food\", \"name\":\"hooters\"},\n        {\"place\":\"Plaza Megacentro\", \"address\":\"Av. San Vicente de Paul\", \"category\":\"Shop & Service\", \"name\":\"Claro\"},\n        {\"place\":\"Plaza Megacentro\", \"address\":\"Av. San Vicente de Paul\", \"category\":\"Shop & Service\", \"name\":\"Claro\"},\n        {\"place\":\"Plaza Megacentro\", \"address\":\"Av. San Vicente de Paul\", \"category\":\"Shop & Service\", \"name\":\"Claro\"},\n        {\"place\":\"Plaza Megacentro\", \"address\":\"Av. San Vicente de Paul\", \"category\":\"Shop & Service\", \"name\":\"Claro\"},\n        {\"place\":\"Plaza Megacentro\", \"address\":\"Av. San Vicente de Paul\", \"category\":\"Shop & Service\", \"name\":\"Claro\"},\n        {\"place\":\"Plaza Megacentro\", \"address\":\"Av. San Vicente de Paul\", \"category\":\"Arts & Entertainment\", \"name\":\"Megaplex 10\"},\n        {\"place\":\"Plaza Megacentro\", \"address\":\"Av. San Vicente de Paul\", \"category\":\"Food\", \"name\":\"hooters\"},\n        {\"place\":\"Plaza Megacentro\", \"address\":\"Av. San Vicente de Paul\", \"category\":\"Food\", \"name\":\"hooters\"}\n]", 
            "cell_type": "code", 
            "metadata": {}, 
            "outputs": [], 
            "execution_count": 146
        }, 
        {
            "source": "for loc in park_locations_foursquare:        \n    (lat, lng) = getLatLng(loc['address'])\n    loc['Latitude'] = lat\n    loc['Longitude'] = lng\n    \ndf_park_locations_foursquare = pd.DataFrame(park_locations_foursquare, columns=['place', 'address', 'Latitude', 'Longitude', 'category', 'name'])\ndf_park_locations_foursquare", 
            "cell_type": "code", 
            "metadata": {}, 
            "outputs": [
                {
                    "output_type": "execute_result", 
                    "data": {
                        "text/plain": "                      place  \\\n0          Acropolis Center   \n1          Acropolis Center   \n2          Acropolis Center   \n3          Acropolis Center   \n4                Agora Mall   \n5                Agora Mall   \n6                Agora Mall   \n7                Agora Mall   \n8                Agora Mall   \n9                Agora Mall   \n10         Bella Vista Mall   \n11         Bella Vista Mall   \n12         Bella Vista Mall   \n13         Bella Vista Mall   \n14                Blue Mall   \n15                Blue Mall   \n16                Blue Mall   \n17                Blue Mall   \n18                Blue Mall   \n19                Blue Mall   \n20                Blue Mall   \n21                Blue Mall   \n22          Downtown Center   \n23          Downtown Center   \n24          Downtown Center   \n25          Downtown Center   \n26          Downtown Center   \n27          Downtown Center   \n28          Downtown Center   \n29          Downtown Center   \n..                      ...   \n47  Centro Comercial Sambil   \n48  Centro Comercial Sambil   \n49  Centro Comercial Sambil   \n50  Centro Comercial Sambil   \n51  Centro Comercial Sambil   \n52  Centro Comercial Sambil   \n53  Centro Comercial Sambil   \n54  Centro Comercial Sambil   \n55  Centro Comercial Sambil   \n56  Centro Comercial Sambil   \n57       Silver Sun Gallery   \n58       Silver Sun Gallery   \n59       Silver Sun Gallery   \n60       Silver Sun Gallery   \n61       Silver Sun Gallery   \n62       Silver Sun Gallery   \n63       Silver Sun Gallery   \n64       Silver Sun Gallery   \n65       Silver Sun Gallery   \n66       Silver Sun Gallery   \n67       Silver Sun Gallery   \n68       Silver Sun Gallery   \n69         Plaza Megacentro   \n70         Plaza Megacentro   \n71         Plaza Megacentro   \n72         Plaza Megacentro   \n73         Plaza Megacentro   \n74         Plaza Megacentro   \n75         Plaza Megacentro   \n76         Plaza Megacentro   \n\n                                              address   Latitude  Longitude  \\\n0                               Av. Winston Churchill  18.471961 -69.941209   \n1                               Av. Winston Churchill  18.471961 -69.941209   \n2                               Av. Winston Churchill  18.471961 -69.941209   \n3                               Av. Winston Churchill  18.471961 -69.941209   \n4               Av. Abraham Lincoln y John F. Kennedy  18.483768 -69.939700   \n5               Av. Abraham Lincoln y John F. Kennedy  18.483768 -69.939700   \n6               Av. Abraham Lincoln y John F. Kennedy  18.483768 -69.939700   \n7               Av. Abraham Lincoln y John F. Kennedy  18.483768 -69.939700   \n8               Av. Abraham Lincoln y John F. Kennedy  18.483768 -69.939700   \n9               Av. Abraham Lincoln y John F. Kennedy  18.483768 -69.939700   \n10                                       Av. Sarasota  18.453526 -69.942752   \n11                                       Av. Sarasota  18.453526 -69.942752   \n12                                       Av. Sarasota  18.453526 -69.942752   \n13                                       Av. Sarasota  18.453526 -69.942752   \n14          Av. Winston Churchill y Gustavo M. Ricart  18.471961 -69.941209   \n15          Av. Winston Churchill y Gustavo M. Ricart  18.471961 -69.941209   \n16          Av. Winston Churchill y Gustavo M. Ricart  18.471961 -69.941209   \n17          Av. Winston Churchill y Gustavo M. Ricart  18.471961 -69.941209   \n18          Av. Winston Churchill y Gustavo M. Ricart  18.471961 -69.941209   \n19          Av. Winston Churchill y Gustavo M. Ricart  18.471961 -69.941209   \n20          Av. Winston Churchill y Gustavo M. Ricart  18.471961 -69.941209   \n21          Av. Winston Churchill y Gustavo M. Ricart  18.471961 -69.941209   \n22  Av. Nu\u00f1ez de Caceres esq. R\u00f3mulo Betancourt, B...  18.451341 -69.952602   \n23  Av. Nu\u00f1ez de Caceres esq. R\u00f3mulo Betancourt, B...  18.451341 -69.952602   \n24  Av. Nu\u00f1ez de Caceres esq. R\u00f3mulo Betancourt, B...  18.451341 -69.952602   \n25  Av. Nu\u00f1ez de Caceres esq. R\u00f3mulo Betancourt, B...  18.451341 -69.952602   \n26  Av. Nu\u00f1ez de Caceres esq. R\u00f3mulo Betancourt, B...  18.451341 -69.952602   \n27  Av. Nu\u00f1ez de Caceres esq. R\u00f3mulo Betancourt, B...  18.451341 -69.952602   \n28  Av. Nu\u00f1ez de Caceres esq. R\u00f3mulo Betancourt, B...  18.451341 -69.952602   \n29  Av. Nu\u00f1ez de Caceres esq. R\u00f3mulo Betancourt, B...  18.451341 -69.952602   \n..                                                ...        ...        ...   \n47                 Av. John F. Kennedy y M\u00e1ximo G\u00f3mez  18.483480 -69.936245   \n48                 Av. John F. Kennedy y M\u00e1ximo G\u00f3mez  18.483480 -69.936245   \n49                 Av. John F. Kennedy y M\u00e1ximo G\u00f3mez  18.483480 -69.936245   \n50                 Av. John F. Kennedy y M\u00e1ximo G\u00f3mez  18.483480 -69.936245   \n51                 Av. John F. Kennedy y M\u00e1ximo G\u00f3mez  18.483480 -69.936245   \n52                 Av. John F. Kennedy y M\u00e1ximo G\u00f3mez  18.483480 -69.936245   \n53                 Av. John F. Kennedy y M\u00e1ximo G\u00f3mez  18.483480 -69.936245   \n54                 Av. John F. Kennedy y M\u00e1ximo G\u00f3mez  18.483480 -69.936245   \n55                 Av. John F. Kennedy y M\u00e1ximo G\u00f3mez  18.483480 -69.936245   \n56                 Av. John F. Kennedy y M\u00e1ximo G\u00f3mez  18.483480 -69.936245   \n57              Av. Tiradentes y Gustavo Mej\u00eda Ricard  18.475384 -69.926768   \n58              Av. Tiradentes y Gustavo Mej\u00eda Ricard  18.475384 -69.926768   \n59              Av. Tiradentes y Gustavo Mej\u00eda Ricard  18.475384 -69.926768   \n60              Av. Tiradentes y Gustavo Mej\u00eda Ricard  18.475384 -69.926768   \n61              Av. Tiradentes y Gustavo Mej\u00eda Ricard  18.475384 -69.926768   \n62              Av. Tiradentes y Gustavo Mej\u00eda Ricard  18.475384 -69.926768   \n63              Av. Tiradentes y Gustavo Mej\u00eda Ricard  18.475384 -69.926768   \n64              Av. Tiradentes y Gustavo Mej\u00eda Ricard  18.475384 -69.926768   \n65              Av. Tiradentes y Gustavo Mej\u00eda Ricard  18.475384 -69.926768   \n66              Av. Tiradentes y Gustavo Mej\u00eda Ricard  18.475384 -69.926768   \n67              Av. Tiradentes y Gustavo Mej\u00eda Ricard  18.475384 -69.926768   \n68              Av. Tiradentes y Gustavo Mej\u00eda Ricard  18.475384 -69.926768   \n69                            Av. San Vicente de Paul  18.505465 -69.857243   \n70                            Av. San Vicente de Paul  18.505465 -69.857243   \n71                            Av. San Vicente de Paul  18.505465 -69.857243   \n72                            Av. San Vicente de Paul  18.505465 -69.857243   \n73                            Av. San Vicente de Paul  18.505465 -69.857243   \n74                            Av. San Vicente de Paul  18.505465 -69.857243   \n75                            Av. San Vicente de Paul  18.505465 -69.857243   \n76                            Av. San Vicente de Paul  18.505465 -69.857243   \n\n                category              name  \n0                   Food           hooters  \n1                   Food           hooters  \n2         Shop & Service             Claro  \n3         Shop & Service             Claro  \n4                   Food           hooters  \n5                   Food           hooters  \n6         Shop & Service             Claro  \n7         Shop & Service            altice  \n8   Arts & Entertainment  Palacio del Cine  \n9                   Food           hooters  \n10                  Food           hooters  \n11                  Food           hooters  \n12                  Food           hooters  \n13                  Food           hooters  \n14  Arts & Entertainment  Palacio del Cine  \n15        Shop & Service             Claro  \n16        Shop & Service             Claro  \n17        Shop & Service             Claro  \n18                  Food           hooters  \n19                  Food           hooters  \n20                  Food           hooters  \n21                  Food           hooters  \n22        Shop & Service             Claro  \n23        Shop & Service             Claro  \n24  Arts & Entertainment  Palacio del Cine  \n25                  Food           hooters  \n26                  Food           hooters  \n27                  Food           hooters  \n28                  Food           hooters  \n29                  Food           hooters  \n..                   ...               ...  \n47        Shop & Service             Claro  \n48        Shop & Service             Claro  \n49        Shop & Service             Claro  \n50        Shop & Service             Claro  \n51        Shop & Service             Claro  \n52  Arts & Entertainment  Palacio del Cine  \n53                  Food           hooters  \n54                  Food           hooters  \n55                  Food           hooters  \n56                  Food           hooters  \n57  Arts & Entertainment  Palacio del Cine  \n58        Shop & Service             Claro  \n59        Shop & Service             Claro  \n60        Shop & Service             Claro  \n61        Shop & Service             Claro  \n62        Shop & Service             Claro  \n63        Shop & Service             Claro  \n64                  Food           hooters  \n65                  Food           hooters  \n66                  Food           hooters  \n67                  Food           hooters  \n68                  Food           hooters  \n69        Shop & Service             Claro  \n70        Shop & Service             Claro  \n71        Shop & Service             Claro  \n72        Shop & Service             Claro  \n73        Shop & Service             Claro  \n74  Arts & Entertainment       Megaplex 10  \n75                  Food           hooters  \n76                  Food           hooters  \n\n[77 rows x 6 columns]", 
                        "text/html": "<div>\n<style scoped>\n    .dataframe tbody tr th:only-of-type {\n        vertical-align: middle;\n    }\n\n    .dataframe tbody tr th {\n        vertical-align: top;\n    }\n\n    .dataframe thead th {\n        text-align: right;\n    }\n</style>\n<table border=\"1\" class=\"dataframe\">\n  <thead>\n    <tr style=\"text-align: right;\">\n      <th></th>\n      <th>place</th>\n      <th>address</th>\n      <th>Latitude</th>\n      <th>Longitude</th>\n      <th>category</th>\n      <th>name</th>\n    </tr>\n  </thead>\n  <tbody>\n    <tr>\n      <th>0</th>\n      <td>Acropolis Center</td>\n      <td>Av. Winston Churchill</td>\n      <td>18.471961</td>\n      <td>-69.941209</td>\n      <td>Food</td>\n      <td>hooters</td>\n    </tr>\n    <tr>\n      <th>1</th>\n      <td>Acropolis Center</td>\n      <td>Av. Winston Churchill</td>\n      <td>18.471961</td>\n      <td>-69.941209</td>\n      <td>Food</td>\n      <td>hooters</td>\n    </tr>\n    <tr>\n      <th>2</th>\n      <td>Acropolis Center</td>\n      <td>Av. Winston Churchill</td>\n      <td>18.471961</td>\n      <td>-69.941209</td>\n      <td>Shop &amp; Service</td>\n      <td>Claro</td>\n    </tr>\n    <tr>\n      <th>3</th>\n      <td>Acropolis Center</td>\n      <td>Av. Winston Churchill</td>\n      <td>18.471961</td>\n      <td>-69.941209</td>\n      <td>Shop &amp; Service</td>\n      <td>Claro</td>\n    </tr>\n    <tr>\n      <th>4</th>\n      <td>Agora Mall</td>\n      <td>Av. Abraham Lincoln y John F. Kennedy</td>\n      <td>18.483768</td>\n      <td>-69.939700</td>\n      <td>Food</td>\n      <td>hooters</td>\n    </tr>\n    <tr>\n      <th>5</th>\n      <td>Agora Mall</td>\n      <td>Av. Abraham Lincoln y John F. Kennedy</td>\n      <td>18.483768</td>\n      <td>-69.939700</td>\n      <td>Food</td>\n      <td>hooters</td>\n    </tr>\n    <tr>\n      <th>6</th>\n      <td>Agora Mall</td>\n      <td>Av. Abraham Lincoln y John F. Kennedy</td>\n      <td>18.483768</td>\n      <td>-69.939700</td>\n      <td>Shop &amp; Service</td>\n      <td>Claro</td>\n    </tr>\n    <tr>\n      <th>7</th>\n      <td>Agora Mall</td>\n      <td>Av. Abraham Lincoln y John F. Kennedy</td>\n      <td>18.483768</td>\n      <td>-69.939700</td>\n      <td>Shop &amp; Service</td>\n      <td>altice</td>\n    </tr>\n    <tr>\n      <th>8</th>\n      <td>Agora Mall</td>\n      <td>Av. Abraham Lincoln y John F. Kennedy</td>\n      <td>18.483768</td>\n      <td>-69.939700</td>\n      <td>Arts &amp; Entertainment</td>\n      <td>Palacio del Cine</td>\n    </tr>\n    <tr>\n      <th>9</th>\n      <td>Agora Mall</td>\n      <td>Av. Abraham Lincoln y John F. Kennedy</td>\n      <td>18.483768</td>\n      <td>-69.939700</td>\n      <td>Food</td>\n      <td>hooters</td>\n    </tr>\n    <tr>\n      <th>10</th>\n      <td>Bella Vista Mall</td>\n      <td>Av. Sarasota</td>\n      <td>18.453526</td>\n      <td>-69.942752</td>\n      <td>Food</td>\n      <td>hooters</td>\n    </tr>\n    <tr>\n      <th>11</th>\n      <td>Bella Vista Mall</td>\n      <td>Av. Sarasota</td>\n      <td>18.453526</td>\n      <td>-69.942752</td>\n      <td>Food</td>\n      <td>hooters</td>\n    </tr>\n    <tr>\n      <th>12</th>\n      <td>Bella Vista Mall</td>\n      <td>Av. Sarasota</td>\n      <td>18.453526</td>\n      <td>-69.942752</td>\n      <td>Food</td>\n      <td>hooters</td>\n    </tr>\n    <tr>\n      <th>13</th>\n      <td>Bella Vista Mall</td>\n      <td>Av. Sarasota</td>\n      <td>18.453526</td>\n      <td>-69.942752</td>\n      <td>Food</td>\n      <td>hooters</td>\n    </tr>\n    <tr>\n      <th>14</th>\n      <td>Blue Mall</td>\n      <td>Av. Winston Churchill y Gustavo M. Ricart</td>\n      <td>18.471961</td>\n      <td>-69.941209</td>\n      <td>Arts &amp; Entertainment</td>\n      <td>Palacio del Cine</td>\n    </tr>\n    <tr>\n      <th>15</th>\n      <td>Blue Mall</td>\n      <td>Av. Winston Churchill y Gustavo M. Ricart</td>\n      <td>18.471961</td>\n      <td>-69.941209</td>\n      <td>Shop &amp; Service</td>\n      <td>Claro</td>\n    </tr>\n    <tr>\n      <th>16</th>\n      <td>Blue Mall</td>\n      <td>Av. Winston Churchill y Gustavo M. Ricart</td>\n      <td>18.471961</td>\n      <td>-69.941209</td>\n      <td>Shop &amp; Service</td>\n      <td>Claro</td>\n    </tr>\n    <tr>\n      <th>17</th>\n      <td>Blue Mall</td>\n      <td>Av. Winston Churchill y Gustavo M. Ricart</td>\n      <td>18.471961</td>\n      <td>-69.941209</td>\n      <td>Shop &amp; Service</td>\n      <td>Claro</td>\n    </tr>\n    <tr>\n      <th>18</th>\n      <td>Blue Mall</td>\n      <td>Av. Winston Churchill y Gustavo M. Ricart</td>\n      <td>18.471961</td>\n      <td>-69.941209</td>\n      <td>Food</td>\n      <td>hooters</td>\n    </tr>\n    <tr>\n      <th>19</th>\n      <td>Blue Mall</td>\n      <td>Av. Winston Churchill y Gustavo M. Ricart</td>\n      <td>18.471961</td>\n      <td>-69.941209</td>\n      <td>Food</td>\n      <td>hooters</td>\n    </tr>\n    <tr>\n      <th>20</th>\n      <td>Blue Mall</td>\n      <td>Av. Winston Churchill y Gustavo M. Ricart</td>\n      <td>18.471961</td>\n      <td>-69.941209</td>\n      <td>Food</td>\n      <td>hooters</td>\n    </tr>\n    <tr>\n      <th>21</th>\n      <td>Blue Mall</td>\n      <td>Av. Winston Churchill y Gustavo M. Ricart</td>\n      <td>18.471961</td>\n      <td>-69.941209</td>\n      <td>Food</td>\n      <td>hooters</td>\n    </tr>\n    <tr>\n      <th>22</th>\n      <td>Downtown Center</td>\n      <td>Av. Nu\u00f1ez de Caceres esq. R\u00f3mulo Betancourt, B...</td>\n      <td>18.451341</td>\n      <td>-69.952602</td>\n      <td>Shop &amp; Service</td>\n      <td>Claro</td>\n    </tr>\n    <tr>\n      <th>23</th>\n      <td>Downtown Center</td>\n      <td>Av. Nu\u00f1ez de Caceres esq. R\u00f3mulo Betancourt, B...</td>\n      <td>18.451341</td>\n      <td>-69.952602</td>\n      <td>Shop &amp; Service</td>\n      <td>Claro</td>\n    </tr>\n    <tr>\n      <th>24</th>\n      <td>Downtown Center</td>\n      <td>Av. Nu\u00f1ez de Caceres esq. R\u00f3mulo Betancourt, B...</td>\n      <td>18.451341</td>\n      <td>-69.952602</td>\n      <td>Arts &amp; Entertainment</td>\n      <td>Palacio del Cine</td>\n    </tr>\n    <tr>\n      <th>25</th>\n      <td>Downtown Center</td>\n      <td>Av. Nu\u00f1ez de Caceres esq. R\u00f3mulo Betancourt, B...</td>\n      <td>18.451341</td>\n      <td>-69.952602</td>\n      <td>Food</td>\n      <td>hooters</td>\n    </tr>\n    <tr>\n      <th>26</th>\n      <td>Downtown Center</td>\n      <td>Av. Nu\u00f1ez de Caceres esq. R\u00f3mulo Betancourt, B...</td>\n      <td>18.451341</td>\n      <td>-69.952602</td>\n      <td>Food</td>\n      <td>hooters</td>\n    </tr>\n    <tr>\n      <th>27</th>\n      <td>Downtown Center</td>\n      <td>Av. Nu\u00f1ez de Caceres esq. R\u00f3mulo Betancourt, B...</td>\n      <td>18.451341</td>\n      <td>-69.952602</td>\n      <td>Food</td>\n      <td>hooters</td>\n    </tr>\n    <tr>\n      <th>28</th>\n      <td>Downtown Center</td>\n      <td>Av. Nu\u00f1ez de Caceres esq. R\u00f3mulo Betancourt, B...</td>\n      <td>18.451341</td>\n      <td>-69.952602</td>\n      <td>Food</td>\n      <td>hooters</td>\n    </tr>\n    <tr>\n      <th>29</th>\n      <td>Downtown Center</td>\n      <td>Av. Nu\u00f1ez de Caceres esq. R\u00f3mulo Betancourt, B...</td>\n      <td>18.451341</td>\n      <td>-69.952602</td>\n      <td>Food</td>\n      <td>hooters</td>\n    </tr>\n    <tr>\n      <th>...</th>\n      <td>...</td>\n      <td>...</td>\n      <td>...</td>\n      <td>...</td>\n      <td>...</td>\n      <td>...</td>\n    </tr>\n    <tr>\n      <th>47</th>\n      <td>Centro Comercial Sambil</td>\n      <td>Av. John F. Kennedy y M\u00e1ximo G\u00f3mez</td>\n      <td>18.483480</td>\n      <td>-69.936245</td>\n      <td>Shop &amp; Service</td>\n      <td>Claro</td>\n    </tr>\n    <tr>\n      <th>48</th>\n      <td>Centro Comercial Sambil</td>\n      <td>Av. John F. Kennedy y M\u00e1ximo G\u00f3mez</td>\n      <td>18.483480</td>\n      <td>-69.936245</td>\n      <td>Shop &amp; Service</td>\n      <td>Claro</td>\n    </tr>\n    <tr>\n      <th>49</th>\n      <td>Centro Comercial Sambil</td>\n      <td>Av. John F. Kennedy y M\u00e1ximo G\u00f3mez</td>\n      <td>18.483480</td>\n      <td>-69.936245</td>\n      <td>Shop &amp; Service</td>\n      <td>Claro</td>\n    </tr>\n    <tr>\n      <th>50</th>\n      <td>Centro Comercial Sambil</td>\n      <td>Av. John F. Kennedy y M\u00e1ximo G\u00f3mez</td>\n      <td>18.483480</td>\n      <td>-69.936245</td>\n      <td>Shop &amp; Service</td>\n      <td>Claro</td>\n    </tr>\n    <tr>\n      <th>51</th>\n      <td>Centro Comercial Sambil</td>\n      <td>Av. John F. Kennedy y M\u00e1ximo G\u00f3mez</td>\n      <td>18.483480</td>\n      <td>-69.936245</td>\n      <td>Shop &amp; Service</td>\n      <td>Claro</td>\n    </tr>\n    <tr>\n      <th>52</th>\n      <td>Centro Comercial Sambil</td>\n      <td>Av. John F. Kennedy y M\u00e1ximo G\u00f3mez</td>\n      <td>18.483480</td>\n      <td>-69.936245</td>\n      <td>Arts &amp; Entertainment</td>\n      <td>Palacio del Cine</td>\n    </tr>\n    <tr>\n      <th>53</th>\n      <td>Centro Comercial Sambil</td>\n      <td>Av. John F. Kennedy y M\u00e1ximo G\u00f3mez</td>\n      <td>18.483480</td>\n      <td>-69.936245</td>\n      <td>Food</td>\n      <td>hooters</td>\n    </tr>\n    <tr>\n      <th>54</th>\n      <td>Centro Comercial Sambil</td>\n      <td>Av. John F. Kennedy y M\u00e1ximo G\u00f3mez</td>\n      <td>18.483480</td>\n      <td>-69.936245</td>\n      <td>Food</td>\n      <td>hooters</td>\n    </tr>\n    <tr>\n      <th>55</th>\n      <td>Centro Comercial Sambil</td>\n      <td>Av. John F. Kennedy y M\u00e1ximo G\u00f3mez</td>\n      <td>18.483480</td>\n      <td>-69.936245</td>\n      <td>Food</td>\n      <td>hooters</td>\n    </tr>\n    <tr>\n      <th>56</th>\n      <td>Centro Comercial Sambil</td>\n      <td>Av. John F. Kennedy y M\u00e1ximo G\u00f3mez</td>\n      <td>18.483480</td>\n      <td>-69.936245</td>\n      <td>Food</td>\n      <td>hooters</td>\n    </tr>\n    <tr>\n      <th>57</th>\n      <td>Silver Sun Gallery</td>\n      <td>Av. Tiradentes y Gustavo Mej\u00eda Ricard</td>\n      <td>18.475384</td>\n      <td>-69.926768</td>\n      <td>Arts &amp; Entertainment</td>\n      <td>Palacio del Cine</td>\n    </tr>\n    <tr>\n      <th>58</th>\n      <td>Silver Sun Gallery</td>\n      <td>Av. Tiradentes y Gustavo Mej\u00eda Ricard</td>\n      <td>18.475384</td>\n      <td>-69.926768</td>\n      <td>Shop &amp; Service</td>\n      <td>Claro</td>\n    </tr>\n    <tr>\n      <th>59</th>\n      <td>Silver Sun Gallery</td>\n      <td>Av. Tiradentes y Gustavo Mej\u00eda Ricard</td>\n      <td>18.475384</td>\n      <td>-69.926768</td>\n      <td>Shop &amp; Service</td>\n      <td>Claro</td>\n    </tr>\n    <tr>\n      <th>60</th>\n      <td>Silver Sun Gallery</td>\n      <td>Av. Tiradentes y Gustavo Mej\u00eda Ricard</td>\n      <td>18.475384</td>\n      <td>-69.926768</td>\n      <td>Shop &amp; Service</td>\n      <td>Claro</td>\n    </tr>\n    <tr>\n      <th>61</th>\n      <td>Silver Sun Gallery</td>\n      <td>Av. Tiradentes y Gustavo Mej\u00eda Ricard</td>\n      <td>18.475384</td>\n      <td>-69.926768</td>\n      <td>Shop &amp; Service</td>\n      <td>Claro</td>\n    </tr>\n    <tr>\n      <th>62</th>\n      <td>Silver Sun Gallery</td>\n      <td>Av. Tiradentes y Gustavo Mej\u00eda Ricard</td>\n      <td>18.475384</td>\n      <td>-69.926768</td>\n      <td>Shop &amp; Service</td>\n      <td>Claro</td>\n    </tr>\n    <tr>\n      <th>63</th>\n      <td>Silver Sun Gallery</td>\n      <td>Av. Tiradentes y Gustavo Mej\u00eda Ricard</td>\n      <td>18.475384</td>\n      <td>-69.926768</td>\n      <td>Shop &amp; Service</td>\n      <td>Claro</td>\n    </tr>\n    <tr>\n      <th>64</th>\n      <td>Silver Sun Gallery</td>\n      <td>Av. Tiradentes y Gustavo Mej\u00eda Ricard</td>\n      <td>18.475384</td>\n      <td>-69.926768</td>\n      <td>Food</td>\n      <td>hooters</td>\n    </tr>\n    <tr>\n      <th>65</th>\n      <td>Silver Sun Gallery</td>\n      <td>Av. Tiradentes y Gustavo Mej\u00eda Ricard</td>\n      <td>18.475384</td>\n      <td>-69.926768</td>\n      <td>Food</td>\n      <td>hooters</td>\n    </tr>\n    <tr>\n      <th>66</th>\n      <td>Silver Sun Gallery</td>\n      <td>Av. Tiradentes y Gustavo Mej\u00eda Ricard</td>\n      <td>18.475384</td>\n      <td>-69.926768</td>\n      <td>Food</td>\n      <td>hooters</td>\n    </tr>\n    <tr>\n      <th>67</th>\n      <td>Silver Sun Gallery</td>\n      <td>Av. Tiradentes y Gustavo Mej\u00eda Ricard</td>\n      <td>18.475384</td>\n      <td>-69.926768</td>\n      <td>Food</td>\n      <td>hooters</td>\n    </tr>\n    <tr>\n      <th>68</th>\n      <td>Silver Sun Gallery</td>\n      <td>Av. Tiradentes y Gustavo Mej\u00eda Ricard</td>\n      <td>18.475384</td>\n      <td>-69.926768</td>\n      <td>Food</td>\n      <td>hooters</td>\n    </tr>\n    <tr>\n      <th>69</th>\n      <td>Plaza Megacentro</td>\n      <td>Av. San Vicente de Paul</td>\n      <td>18.505465</td>\n      <td>-69.857243</td>\n      <td>Shop &amp; Service</td>\n      <td>Claro</td>\n    </tr>\n    <tr>\n      <th>70</th>\n      <td>Plaza Megacentro</td>\n      <td>Av. San Vicente de Paul</td>\n      <td>18.505465</td>\n      <td>-69.857243</td>\n      <td>Shop &amp; Service</td>\n      <td>Claro</td>\n    </tr>\n    <tr>\n      <th>71</th>\n      <td>Plaza Megacentro</td>\n      <td>Av. San Vicente de Paul</td>\n      <td>18.505465</td>\n      <td>-69.857243</td>\n      <td>Shop &amp; Service</td>\n      <td>Claro</td>\n    </tr>\n    <tr>\n      <th>72</th>\n      <td>Plaza Megacentro</td>\n      <td>Av. San Vicente de Paul</td>\n      <td>18.505465</td>\n      <td>-69.857243</td>\n      <td>Shop &amp; Service</td>\n      <td>Claro</td>\n    </tr>\n    <tr>\n      <th>73</th>\n      <td>Plaza Megacentro</td>\n      <td>Av. San Vicente de Paul</td>\n      <td>18.505465</td>\n      <td>-69.857243</td>\n      <td>Shop &amp; Service</td>\n      <td>Claro</td>\n    </tr>\n    <tr>\n      <th>74</th>\n      <td>Plaza Megacentro</td>\n      <td>Av. San Vicente de Paul</td>\n      <td>18.505465</td>\n      <td>-69.857243</td>\n      <td>Arts &amp; Entertainment</td>\n      <td>Megaplex 10</td>\n    </tr>\n    <tr>\n      <th>75</th>\n      <td>Plaza Megacentro</td>\n      <td>Av. San Vicente de Paul</td>\n      <td>18.505465</td>\n      <td>-69.857243</td>\n      <td>Food</td>\n      <td>hooters</td>\n    </tr>\n    <tr>\n      <th>76</th>\n      <td>Plaza Megacentro</td>\n      <td>Av. San Vicente de Paul</td>\n      <td>18.505465</td>\n      <td>-69.857243</td>\n      <td>Food</td>\n      <td>hooters</td>\n    </tr>\n  </tbody>\n</table>\n<p>77 rows \u00d7 6 columns</p>\n</div>"
                    }, 
                    "execution_count": 147, 
                    "metadata": {}
                }
            ], 
            "execution_count": 147
        }, 
        {
            "source": "df_park_locations_foursquare['category'].value_counts().to_frame(name='Count')", 
            "cell_type": "code", 
            "metadata": {}, 
            "outputs": [
                {
                    "output_type": "execute_result", 
                    "data": {
                        "text/plain": "                      Count\nFood                     38\nShop & Service           29\nArts & Entertainment      8\nMetro Station             2", 
                        "text/html": "<div>\n<style scoped>\n    .dataframe tbody tr th:only-of-type {\n        vertical-align: middle;\n    }\n\n    .dataframe tbody tr th {\n        vertical-align: top;\n    }\n\n    .dataframe thead th {\n        text-align: right;\n    }\n</style>\n<table border=\"1\" class=\"dataframe\">\n  <thead>\n    <tr style=\"text-align: right;\">\n      <th></th>\n      <th>Count</th>\n    </tr>\n  </thead>\n  <tbody>\n    <tr>\n      <th>Food</th>\n      <td>38</td>\n    </tr>\n    <tr>\n      <th>Shop &amp; Service</th>\n      <td>29</td>\n    </tr>\n    <tr>\n      <th>Arts &amp; Entertainment</th>\n      <td>8</td>\n    </tr>\n    <tr>\n      <th>Metro Station</th>\n      <td>2</td>\n    </tr>\n  </tbody>\n</table>\n</div>"
                    }, 
                    "execution_count": 148, 
                    "metadata": {}
                }
            ], 
            "execution_count": 148
        }, 
        {
            "source": "df_park_locations_foursquare.shape", 
            "cell_type": "code", 
            "metadata": {}, 
            "outputs": [
                {
                    "output_type": "execute_result", 
                    "data": {
                        "text/plain": "(77, 6)"
                    }, 
                    "execution_count": 149, 
                    "metadata": {}
                }
            ], 
            "execution_count": 149
        }, 
        {
            "source": "df_target_venues = pd.DataFrame(columns=['Location', 'Category', 'Name', 'Latitude', 'Longitude'])\nfor (location, address, latitude, longitude) in df_possible_park_locations.itertuples(index=False):\n    for cat, cat_id in fs_categories.items():\n        df = venues_nearby(latitude, longitude, cat, verbose=False)\n        df['Location'] = location\n        df['Category'] = cat\n        df_target_venues = df_target_venues.append(df)", 
            "cell_type": "code", 
            "metadata": {}, 
            "outputs": [
                {
                    "output_type": "stream", 
                    "name": "stdout", 
                    "text": "Index(['categories', 'hasPerk', 'id', 'location.address', 'location.cc',\n       'location.city', 'location.country', 'location.crossStreet',\n       'location.distance', 'location.formattedAddress',\n       'location.labeledLatLngs', 'location.lat', 'location.lng',\n       'location.state', 'name', 'referralId'],\n      dtype='object')\nIndex(['categories', 'hasPerk', 'id', 'location.cc', 'location.country',\n       'location.distance', 'location.formattedAddress',\n       'location.labeledLatLngs', 'location.lat', 'location.lng', 'name',\n       'referralId'],\n      dtype='object')\nIndex(['categories', 'hasPerk', 'id', 'location.address', 'location.cc',\n       'location.city', 'location.country', 'location.crossStreet',\n       'location.distance', 'location.formattedAddress',\n       'location.labeledLatLngs', 'location.lat', 'location.lng',\n       'location.state', 'name', 'referralId'],\n      dtype='object')\nIndex(['categories', 'hasPerk', 'id', 'location.address', 'location.cc',\n       'location.city', 'location.country', 'location.distance',\n       'location.formattedAddress', 'location.labeledLatLngs', 'location.lat',\n       'location.lng', 'location.state', 'name', 'referralId'],\n      dtype='object')\nIndex(['categories', 'hasPerk', 'id', 'location.address', 'location.cc',\n       'location.city', 'location.country', 'location.crossStreet',\n       'location.distance', 'location.formattedAddress',\n       'location.labeledLatLngs', 'location.lat', 'location.lng',\n       'location.postalCode', 'location.state', 'name', 'referralId'],\n      dtype='object')\nIndex(['categories', 'hasPerk', 'id', 'location.address', 'location.cc',\n       'location.city', 'location.country', 'location.distance',\n       'location.formattedAddress', 'location.labeledLatLngs', 'location.lat',\n       'location.lng', 'location.state', 'name', 'referralId'],\n      dtype='object')\nIndex(['categories', 'hasPerk', 'id', 'location.address', 'location.cc',\n       'location.city', 'location.country', 'location.distance',\n       'location.formattedAddress', 'location.labeledLatLngs', 'location.lat',\n       'location.lng', 'location.state', 'name', 'referralId'],\n      dtype='object')\nIndex(['categories', 'hasPerk', 'id', 'location.address', 'location.cc',\n       'location.city', 'location.country', 'location.crossStreet',\n       'location.distance', 'location.formattedAddress',\n       'location.labeledLatLngs', 'location.lat', 'location.lng',\n       'location.state', 'name', 'referralId'],\n      dtype='object')\nIndex(['categories', 'hasPerk', 'id', 'location.address', 'location.cc',\n       'location.city', 'location.country', 'location.crossStreet',\n       'location.distance', 'location.formattedAddress',\n       'location.labeledLatLngs', 'location.lat', 'location.lng',\n       'location.state', 'name', 'referralId'],\n      dtype='object')\nIndex(['categories', 'hasPerk', 'id', 'location.address', 'location.cc',\n       'location.city', 'location.country', 'location.crossStreet',\n       'location.distance', 'location.formattedAddress',\n       'location.labeledLatLngs', 'location.lat', 'location.lng',\n       'location.state', 'name', 'referralId'],\n      dtype='object')\nIndex(['categories', 'hasPerk', 'id', 'location.cc', 'location.country',\n       'location.distance', 'location.formattedAddress',\n       'location.labeledLatLngs', 'location.lat', 'location.lng', 'name',\n       'referralId'],\n      dtype='object')\nIndex(['categories', 'hasPerk', 'id', 'location.address', 'location.cc',\n       'location.city', 'location.country', 'location.crossStreet',\n       'location.distance', 'location.formattedAddress',\n       'location.labeledLatLngs', 'location.lat', 'location.lng',\n       'location.postalCode', 'location.state', 'name', 'referralId'],\n      dtype='object')\n"
                }
            ], 
            "execution_count": 150
        }, 
        {
            "source": "df_target_venues.head()", 
            "cell_type": "code", 
            "metadata": {}, 
            "outputs": [
                {
                    "output_type": "execute_result", 
                    "data": {
                        "text/plain": "         Category   Latitude Location  Longitude                         Name\n0            Food  18.475530       L1 -69.933937       Cibus Street Fast Food\n1            Food  18.472933       L1 -69.934379  La Terracita Food And Drink\n2            Food  18.472365       L1 -69.935076           Laurel Food & Wine\n0  Nightlife Spot  18.475837       L1 -69.936309                  Spot Lincon\n0  Shop & Service  18.476763       L1 -69.936703      Boss shop Santo Domingo", 
                        "text/html": "<div>\n<style scoped>\n    .dataframe tbody tr th:only-of-type {\n        vertical-align: middle;\n    }\n\n    .dataframe tbody tr th {\n        vertical-align: top;\n    }\n\n    .dataframe thead th {\n        text-align: right;\n    }\n</style>\n<table border=\"1\" class=\"dataframe\">\n  <thead>\n    <tr style=\"text-align: right;\">\n      <th></th>\n      <th>Category</th>\n      <th>Latitude</th>\n      <th>Location</th>\n      <th>Longitude</th>\n      <th>Name</th>\n    </tr>\n  </thead>\n  <tbody>\n    <tr>\n      <th>0</th>\n      <td>Food</td>\n      <td>18.475530</td>\n      <td>L1</td>\n      <td>-69.933937</td>\n      <td>Cibus Street Fast Food</td>\n    </tr>\n    <tr>\n      <th>1</th>\n      <td>Food</td>\n      <td>18.472933</td>\n      <td>L1</td>\n      <td>-69.934379</td>\n      <td>La Terracita Food And Drink</td>\n    </tr>\n    <tr>\n      <th>2</th>\n      <td>Food</td>\n      <td>18.472365</td>\n      <td>L1</td>\n      <td>-69.935076</td>\n      <td>Laurel Food &amp; Wine</td>\n    </tr>\n    <tr>\n      <th>0</th>\n      <td>Nightlife Spot</td>\n      <td>18.475837</td>\n      <td>L1</td>\n      <td>-69.936309</td>\n      <td>Spot Lincon</td>\n    </tr>\n    <tr>\n      <th>0</th>\n      <td>Shop &amp; Service</td>\n      <td>18.476763</td>\n      <td>L1</td>\n      <td>-69.936703</td>\n      <td>Boss shop Santo Domingo</td>\n    </tr>\n  </tbody>\n</table>\n</div>"
                    }, 
                    "execution_count": 151, 
                    "metadata": {}
                }
            ], 
            "execution_count": 151
        }, 
        {
            "source": "df_target_venues['Category'].value_counts().to_frame(name='Count')", 
            "cell_type": "code", 
            "metadata": {}, 
            "outputs": [
                {
                    "output_type": "execute_result", 
                    "data": {
                        "text/plain": "                Count\nShop & Service     23\nFood                8\nMetro Station       2\nNightlife Spot      1", 
                        "text/html": "<div>\n<style scoped>\n    .dataframe tbody tr th:only-of-type {\n        vertical-align: middle;\n    }\n\n    .dataframe tbody tr th {\n        vertical-align: top;\n    }\n\n    .dataframe thead th {\n        text-align: right;\n    }\n</style>\n<table border=\"1\" class=\"dataframe\">\n  <thead>\n    <tr style=\"text-align: right;\">\n      <th></th>\n      <th>Count</th>\n    </tr>\n  </thead>\n  <tbody>\n    <tr>\n      <th>Shop &amp; Service</th>\n      <td>23</td>\n    </tr>\n    <tr>\n      <th>Food</th>\n      <td>8</td>\n    </tr>\n    <tr>\n      <th>Metro Station</th>\n      <td>2</td>\n    </tr>\n    <tr>\n      <th>Nightlife Spot</th>\n      <td>1</td>\n    </tr>\n  </tbody>\n</table>\n</div>"
                    }, 
                    "execution_count": 152, 
                    "metadata": {}
                }
            ], 
            "execution_count": 152
        }, 
        {
            "source": "df_target_venues.shape", 
            "cell_type": "code", 
            "metadata": {}, 
            "outputs": [
                {
                    "output_type": "execute_result", 
                    "data": {
                        "text/plain": "(34, 5)"
                    }, 
                    "execution_count": 153, 
                    "metadata": {}
                }
            ], 
            "execution_count": 153
        }, 
        {
            "source": "df_venues_count = df_park_locations_foursquare.groupby(['place','category'], as_index=False).count()\ndf_venues_count.drop(columns=['Latitude','Longitude'], inplace=True)\ndf_venues_count.rename(columns={'name':'Count'}, inplace=True)\ndf_venues_count.head()", 
            "cell_type": "code", 
            "metadata": {}, 
            "outputs": [
                {
                    "output_type": "execute_result", 
                    "data": {
                        "text/plain": "              place              category  address  Count\n0  Acropolis Center                  Food        2      2\n1  Acropolis Center        Shop & Service        2      2\n2        Agora Mall  Arts & Entertainment        1      1\n3        Agora Mall                  Food        3      3\n4        Agora Mall        Shop & Service        2      2", 
                        "text/html": "<div>\n<style scoped>\n    .dataframe tbody tr th:only-of-type {\n        vertical-align: middle;\n    }\n\n    .dataframe tbody tr th {\n        vertical-align: top;\n    }\n\n    .dataframe thead th {\n        text-align: right;\n    }\n</style>\n<table border=\"1\" class=\"dataframe\">\n  <thead>\n    <tr style=\"text-align: right;\">\n      <th></th>\n      <th>place</th>\n      <th>category</th>\n      <th>address</th>\n      <th>Count</th>\n    </tr>\n  </thead>\n  <tbody>\n    <tr>\n      <th>0</th>\n      <td>Acropolis Center</td>\n      <td>Food</td>\n      <td>2</td>\n      <td>2</td>\n    </tr>\n    <tr>\n      <th>1</th>\n      <td>Acropolis Center</td>\n      <td>Shop &amp; Service</td>\n      <td>2</td>\n      <td>2</td>\n    </tr>\n    <tr>\n      <th>2</th>\n      <td>Agora Mall</td>\n      <td>Arts &amp; Entertainment</td>\n      <td>1</td>\n      <td>1</td>\n    </tr>\n    <tr>\n      <th>3</th>\n      <td>Agora Mall</td>\n      <td>Food</td>\n      <td>3</td>\n      <td>3</td>\n    </tr>\n    <tr>\n      <th>4</th>\n      <td>Agora Mall</td>\n      <td>Shop &amp; Service</td>\n      <td>2</td>\n      <td>2</td>\n    </tr>\n  </tbody>\n</table>\n</div>"
                    }, 
                    "execution_count": 154, 
                    "metadata": {}
                }
            ], 
            "execution_count": 154
        }, 
        {
            "source": "df_venues_count = df_venues_count.pivot(index='place', columns='category', values='Count').fillna(0)\ndf_venues_count.head()", 
            "cell_type": "code", 
            "metadata": {}, 
            "outputs": [
                {
                    "output_type": "execute_result", 
                    "data": {
                        "text/plain": "category                 Arts & Entertainment  Food  Metro Station  \\\nplace                                                                \nAcropolis Center                          0.0   2.0            0.0   \nAgora Mall                                1.0   3.0            0.0   \nBella Vista Mall                          0.0   4.0            0.0   \nBlue Mall                                 1.0   4.0            0.0   \nCentro Comercial Sambil                   1.0   4.0            1.0   \n\ncategory                 Shop & Service  \nplace                                    \nAcropolis Center                    2.0  \nAgora Mall                          2.0  \nBella Vista Mall                    0.0  \nBlue Mall                           3.0  \nCentro Comercial Sambil             5.0  ", 
                        "text/html": "<div>\n<style scoped>\n    .dataframe tbody tr th:only-of-type {\n        vertical-align: middle;\n    }\n\n    .dataframe tbody tr th {\n        vertical-align: top;\n    }\n\n    .dataframe thead th {\n        text-align: right;\n    }\n</style>\n<table border=\"1\" class=\"dataframe\">\n  <thead>\n    <tr style=\"text-align: right;\">\n      <th>category</th>\n      <th>Arts &amp; Entertainment</th>\n      <th>Food</th>\n      <th>Metro Station</th>\n      <th>Shop &amp; Service</th>\n    </tr>\n    <tr>\n      <th>place</th>\n      <th></th>\n      <th></th>\n      <th></th>\n      <th></th>\n    </tr>\n  </thead>\n  <tbody>\n    <tr>\n      <th>Acropolis Center</th>\n      <td>0.0</td>\n      <td>2.0</td>\n      <td>0.0</td>\n      <td>2.0</td>\n    </tr>\n    <tr>\n      <th>Agora Mall</th>\n      <td>1.0</td>\n      <td>3.0</td>\n      <td>0.0</td>\n      <td>2.0</td>\n    </tr>\n    <tr>\n      <th>Bella Vista Mall</th>\n      <td>0.0</td>\n      <td>4.0</td>\n      <td>0.0</td>\n      <td>0.0</td>\n    </tr>\n    <tr>\n      <th>Blue Mall</th>\n      <td>1.0</td>\n      <td>4.0</td>\n      <td>0.0</td>\n      <td>3.0</td>\n    </tr>\n    <tr>\n      <th>Centro Comercial Sambil</th>\n      <td>1.0</td>\n      <td>4.0</td>\n      <td>1.0</td>\n      <td>5.0</td>\n    </tr>\n  </tbody>\n</table>\n</div>"
                    }, 
                    "execution_count": 155, 
                    "metadata": {}
                }
            ], 
            "execution_count": 155
        }, 
        {
            "source": "# Do the same process on target locations\ndf_target_venues_count = df_target_venues.groupby(['Location','Category']).size().reset_index(name='Count')\ndf_target_venues_count = df_target_venues_count.pivot(index='Location', columns='Category', values='Count').fillna(0)", 
            "cell_type": "code", 
            "metadata": {}, 
            "outputs": [], 
            "execution_count": 156
        }, 
        {
            "source": "df_target_venues_count", 
            "cell_type": "code", 
            "metadata": {}, 
            "outputs": [
                {
                    "output_type": "execute_result", 
                    "data": {
                        "text/plain": "Category  Food  Metro Station  Nightlife Spot  Shop & Service\nLocation                                                     \nL1         3.0            0.0             1.0             5.0\nL2         3.0            0.0             0.0             7.0\nL3         1.0            0.0             0.0             5.0\nL4         1.0            1.0             0.0             4.0\nL5         0.0            1.0             0.0             2.0", 
                        "text/html": "<div>\n<style scoped>\n    .dataframe tbody tr th:only-of-type {\n        vertical-align: middle;\n    }\n\n    .dataframe tbody tr th {\n        vertical-align: top;\n    }\n\n    .dataframe thead th {\n        text-align: right;\n    }\n</style>\n<table border=\"1\" class=\"dataframe\">\n  <thead>\n    <tr style=\"text-align: right;\">\n      <th>Category</th>\n      <th>Food</th>\n      <th>Metro Station</th>\n      <th>Nightlife Spot</th>\n      <th>Shop &amp; Service</th>\n    </tr>\n    <tr>\n      <th>Location</th>\n      <th></th>\n      <th></th>\n      <th></th>\n      <th></th>\n    </tr>\n  </thead>\n  <tbody>\n    <tr>\n      <th>L1</th>\n      <td>3.0</td>\n      <td>0.0</td>\n      <td>1.0</td>\n      <td>5.0</td>\n    </tr>\n    <tr>\n      <th>L2</th>\n      <td>3.0</td>\n      <td>0.0</td>\n      <td>0.0</td>\n      <td>7.0</td>\n    </tr>\n    <tr>\n      <th>L3</th>\n      <td>1.0</td>\n      <td>0.0</td>\n      <td>0.0</td>\n      <td>5.0</td>\n    </tr>\n    <tr>\n      <th>L4</th>\n      <td>1.0</td>\n      <td>1.0</td>\n      <td>0.0</td>\n      <td>4.0</td>\n    </tr>\n    <tr>\n      <th>L5</th>\n      <td>0.0</td>\n      <td>1.0</td>\n      <td>0.0</td>\n      <td>2.0</td>\n    </tr>\n  </tbody>\n</table>\n</div>"
                    }, 
                    "execution_count": 157, 
                    "metadata": {}
                }
            ], 
            "execution_count": 157
        }, 
        {
            "source": "# Check the Dominican Republic park list contains all stakeholder's favorite parks\n# print(government_favorite_parks)\nnames = [ cinema for cinema in df_government_favorite_parks['Name'] ]\n# names\ndf_park_locations[df_park_locations.Location.isin(names)]", 
            "cell_type": "code", 
            "metadata": {}, 
            "outputs": [
                {
                    "output_type": "execute_result", 
                    "data": {
                        "text/plain": "             Location                                            Address  \\\n0     Downtown Center  Downtown Center Av. Nu\u00f1ez de Caceres, Av. R\u00f3mu...   \n1  Silver Sun Gallery  Av. Tiradentes y Gustavo Mej\u00eda Ricard, Santo D...   \n2         Galer\u00eda 360                 Av. John F. Kennedy, Santo Domingo   \n3          Agora Mall  Av. Abraham Lincoln y John F. Kennedy, Santo D...   \n4    Acropolis Center               Av. Winston Churchill, Santo Domingo   \n\n    Latitude  Longitude  \n0  18.451144 -69.952780  \n1  18.475384 -69.926768  \n2  18.483480 -69.936245  \n3  18.483768 -69.939700  \n4  18.471961 -69.941209  ", 
                        "text/html": "<div>\n<style scoped>\n    .dataframe tbody tr th:only-of-type {\n        vertical-align: middle;\n    }\n\n    .dataframe tbody tr th {\n        vertical-align: top;\n    }\n\n    .dataframe thead th {\n        text-align: right;\n    }\n</style>\n<table border=\"1\" class=\"dataframe\">\n  <thead>\n    <tr style=\"text-align: right;\">\n      <th></th>\n      <th>Location</th>\n      <th>Address</th>\n      <th>Latitude</th>\n      <th>Longitude</th>\n    </tr>\n  </thead>\n  <tbody>\n    <tr>\n      <th>0</th>\n      <td>Downtown Center</td>\n      <td>Downtown Center Av. Nu\u00f1ez de Caceres, Av. R\u00f3mu...</td>\n      <td>18.451144</td>\n      <td>-69.952780</td>\n    </tr>\n    <tr>\n      <th>1</th>\n      <td>Silver Sun Gallery</td>\n      <td>Av. Tiradentes y Gustavo Mej\u00eda Ricard, Santo D...</td>\n      <td>18.475384</td>\n      <td>-69.926768</td>\n    </tr>\n    <tr>\n      <th>2</th>\n      <td>Galer\u00eda 360</td>\n      <td>Av. John F. Kennedy, Santo Domingo</td>\n      <td>18.483480</td>\n      <td>-69.936245</td>\n    </tr>\n    <tr>\n      <th>3</th>\n      <td>Agora Mall</td>\n      <td>Av. Abraham Lincoln y John F. Kennedy, Santo D...</td>\n      <td>18.483768</td>\n      <td>-69.939700</td>\n    </tr>\n    <tr>\n      <th>4</th>\n      <td>Acropolis Center</td>\n      <td>Av. Winston Churchill, Santo Domingo</td>\n      <td>18.471961</td>\n      <td>-69.941209</td>\n    </tr>\n  </tbody>\n</table>\n</div>"
                    }, 
                    "execution_count": 166, 
                    "metadata": {}
                }
            ], 
            "execution_count": 166
        }, 
        {
            "source": "df_boss_favorite = pd.DataFrame(government_favorite_parks, columns=['Name','Rating'])\ndf_boss_favorite", 
            "cell_type": "code", 
            "metadata": {}, 
            "outputs": [
                {
                    "output_type": "execute_result", 
                    "data": {
                        "text/plain": "                 Name  Rating\n0    Bella Vista Mall     4.5\n1    Acropolis Center     4.5\n2     Downtown Center     4.3\n3  Silver Sun Gallery     3.4\n4          Agora Mall     2.3\n5         Galer\u00eda 360     1.5", 
                        "text/html": "<div>\n<style scoped>\n    .dataframe tbody tr th:only-of-type {\n        vertical-align: middle;\n    }\n\n    .dataframe tbody tr th {\n        vertical-align: top;\n    }\n\n    .dataframe thead th {\n        text-align: right;\n    }\n</style>\n<table border=\"1\" class=\"dataframe\">\n  <thead>\n    <tr style=\"text-align: right;\">\n      <th></th>\n      <th>Name</th>\n      <th>Rating</th>\n    </tr>\n  </thead>\n  <tbody>\n    <tr>\n      <th>0</th>\n      <td>Bella Vista Mall</td>\n      <td>4.5</td>\n    </tr>\n    <tr>\n      <th>1</th>\n      <td>Acropolis Center</td>\n      <td>4.5</td>\n    </tr>\n    <tr>\n      <th>2</th>\n      <td>Downtown Center</td>\n      <td>4.3</td>\n    </tr>\n    <tr>\n      <th>3</th>\n      <td>Silver Sun Gallery</td>\n      <td>3.4</td>\n    </tr>\n    <tr>\n      <th>4</th>\n      <td>Agora Mall</td>\n      <td>2.3</td>\n    </tr>\n    <tr>\n      <th>5</th>\n      <td>Galer\u00eda 360</td>\n      <td>1.5</td>\n    </tr>\n  </tbody>\n</table>\n</div>"
                    }, 
                    "execution_count": 168, 
                    "metadata": {}
                }
            ], 
            "execution_count": 168
        }, 
        {
            "source": "Data Analysis", 
            "cell_type": "markdown", 
            "metadata": {}
        }, 
        {
            "source": "!conda install seaborn=0.9 --yes", 
            "cell_type": "code", 
            "metadata": {}, 
            "outputs": [
                {
                    "output_type": "stream", 
                    "name": "stdout", 
                    "text": "Solving environment: done\n\n## Package Plan ##\n\n  environment location: /opt/conda/envs/DSX-Python35\n\n  added / updated specs: \n    - seaborn=0.9\n\n\nThe following packages will be downloaded:\n\n    package                    |            build\n    ---------------------------|-----------------\n    seaborn-0.9.0              |           py35_0         378 KB\n    openssl-1.0.2s             |       h7b6447c_0         3.1 MB\n    ------------------------------------------------------------\n                                           Total:         3.5 MB\n\nThe following packages will be UPDATED:\n\n    openssl: 1.0.2r-h7b6447c_0    --> 1.0.2s-h7b6447c_0\n    seaborn: 0.8.0-py35h15a2772_0 --> 0.9.0-py35_0     \n\n\nDownloading and Extracting Packages\nseaborn-0.9.0        | 378 KB    | ##################################### | 100% \nopenssl-1.0.2s       | 3.1 MB    | ##################################### | 100% \nPreparing transaction: done\nVerifying transaction: done\nExecuting transaction: done\n"
                }
            ], 
            "execution_count": 169
        }, 
        {
            "source": "\nimport matplotlib\nimport matplotlib.pyplot as plt\nimport seaborn as sns\n%matplotlib inline", 
            "cell_type": "code", 
            "metadata": {}, 
            "outputs": [], 
            "execution_count": 170
        }, 
        {
            "source": "df_venues_count.describe()", 
            "cell_type": "code", 
            "metadata": {}, 
            "outputs": [
                {
                    "output_type": "execute_result", 
                    "data": {
                        "text/plain": "category  Arts & Entertainment       Food  Metro Station  Shop & Service\ncount                11.000000  11.000000      11.000000       11.000000\nmean                  0.727273   3.454545       0.181818        2.636364\nstd                   0.467099   1.368476       0.404520        2.157440\nmin                   0.000000   2.000000       0.000000        0.000000\n25%                   0.500000   2.000000       0.000000        1.000000\n50%                   1.000000   4.000000       0.000000        2.000000\n75%                   1.000000   4.000000       0.000000        4.500000\nmax                   1.000000   6.000000       1.000000        6.000000", 
                        "text/html": "<div>\n<style scoped>\n    .dataframe tbody tr th:only-of-type {\n        vertical-align: middle;\n    }\n\n    .dataframe tbody tr th {\n        vertical-align: top;\n    }\n\n    .dataframe thead th {\n        text-align: right;\n    }\n</style>\n<table border=\"1\" class=\"dataframe\">\n  <thead>\n    <tr style=\"text-align: right;\">\n      <th>category</th>\n      <th>Arts &amp; Entertainment</th>\n      <th>Food</th>\n      <th>Metro Station</th>\n      <th>Shop &amp; Service</th>\n    </tr>\n  </thead>\n  <tbody>\n    <tr>\n      <th>count</th>\n      <td>11.000000</td>\n      <td>11.000000</td>\n      <td>11.000000</td>\n      <td>11.000000</td>\n    </tr>\n    <tr>\n      <th>mean</th>\n      <td>0.727273</td>\n      <td>3.454545</td>\n      <td>0.181818</td>\n      <td>2.636364</td>\n    </tr>\n    <tr>\n      <th>std</th>\n      <td>0.467099</td>\n      <td>1.368476</td>\n      <td>0.404520</td>\n      <td>2.157440</td>\n    </tr>\n    <tr>\n      <th>min</th>\n      <td>0.000000</td>\n      <td>2.000000</td>\n      <td>0.000000</td>\n      <td>0.000000</td>\n    </tr>\n    <tr>\n      <th>25%</th>\n      <td>0.500000</td>\n      <td>2.000000</td>\n      <td>0.000000</td>\n      <td>1.000000</td>\n    </tr>\n    <tr>\n      <th>50%</th>\n      <td>1.000000</td>\n      <td>4.000000</td>\n      <td>0.000000</td>\n      <td>2.000000</td>\n    </tr>\n    <tr>\n      <th>75%</th>\n      <td>1.000000</td>\n      <td>4.000000</td>\n      <td>0.000000</td>\n      <td>4.500000</td>\n    </tr>\n    <tr>\n      <th>max</th>\n      <td>1.000000</td>\n      <td>6.000000</td>\n      <td>1.000000</td>\n      <td>6.000000</td>\n    </tr>\n  </tbody>\n</table>\n</div>"
                    }, 
                    "execution_count": 171, 
                    "metadata": {}
                }
            ], 
            "execution_count": 171
        }, 
        {
            "source": "df_venues_count['Food'].value_counts().sort_index().to_frame('Cinema Count')", 
            "cell_type": "code", 
            "metadata": {}, 
            "outputs": [
                {
                    "output_type": "execute_result", 
                    "data": {
                        "text/plain": "     Cinema Count\n2.0             4\n3.0             1\n4.0             4\n5.0             1\n6.0             1", 
                        "text/html": "<div>\n<style scoped>\n    .dataframe tbody tr th:only-of-type {\n        vertical-align: middle;\n    }\n\n    .dataframe tbody tr th {\n        vertical-align: top;\n    }\n\n    .dataframe thead th {\n        text-align: right;\n    }\n</style>\n<table border=\"1\" class=\"dataframe\">\n  <thead>\n    <tr style=\"text-align: right;\">\n      <th></th>\n      <th>Cinema Count</th>\n    </tr>\n  </thead>\n  <tbody>\n    <tr>\n      <th>2.0</th>\n      <td>4</td>\n    </tr>\n    <tr>\n      <th>3.0</th>\n      <td>1</td>\n    </tr>\n    <tr>\n      <th>4.0</th>\n      <td>4</td>\n    </tr>\n    <tr>\n      <th>5.0</th>\n      <td>1</td>\n    </tr>\n    <tr>\n      <th>6.0</th>\n      <td>1</td>\n    </tr>\n  </tbody>\n</table>\n</div>"
                    }, 
                    "execution_count": 172, 
                    "metadata": {}
                }
            ], 
            "execution_count": 172
        }, 
        {
            "source": "df_venues_count[df_venues_count['Food'] > 2]", 
            "cell_type": "code", 
            "metadata": {}, 
            "outputs": [
                {
                    "output_type": "execute_result", 
                    "data": {
                        "text/plain": "category                 Arts & Entertainment  Food  Metro Station  \\\nplace                                                                \nAgora Mall                                1.0   3.0            0.0   \nBella Vista Mall                          0.0   4.0            0.0   \nBlue Mall                                 1.0   4.0            0.0   \nCentro Comercial Sambil                   1.0   4.0            1.0   \nDowntown Center                           1.0   6.0            0.0   \nGaler\u00eda 360                               0.0   4.0            1.0   \nSilver Sun Gallery                        1.0   5.0            0.0   \n\ncategory                 Shop & Service  \nplace                                    \nAgora Mall                          2.0  \nBella Vista Mall                    0.0  \nBlue Mall                           3.0  \nCentro Comercial Sambil             5.0  \nDowntown Center                     2.0  \nGaler\u00eda 360                         4.0  \nSilver Sun Gallery                  6.0  ", 
                        "text/html": "<div>\n<style scoped>\n    .dataframe tbody tr th:only-of-type {\n        vertical-align: middle;\n    }\n\n    .dataframe tbody tr th {\n        vertical-align: top;\n    }\n\n    .dataframe thead th {\n        text-align: right;\n    }\n</style>\n<table border=\"1\" class=\"dataframe\">\n  <thead>\n    <tr style=\"text-align: right;\">\n      <th>category</th>\n      <th>Arts &amp; Entertainment</th>\n      <th>Food</th>\n      <th>Metro Station</th>\n      <th>Shop &amp; Service</th>\n    </tr>\n    <tr>\n      <th>place</th>\n      <th></th>\n      <th></th>\n      <th></th>\n      <th></th>\n    </tr>\n  </thead>\n  <tbody>\n    <tr>\n      <th>Agora Mall</th>\n      <td>1.0</td>\n      <td>3.0</td>\n      <td>0.0</td>\n      <td>2.0</td>\n    </tr>\n    <tr>\n      <th>Bella Vista Mall</th>\n      <td>0.0</td>\n      <td>4.0</td>\n      <td>0.0</td>\n      <td>0.0</td>\n    </tr>\n    <tr>\n      <th>Blue Mall</th>\n      <td>1.0</td>\n      <td>4.0</td>\n      <td>0.0</td>\n      <td>3.0</td>\n    </tr>\n    <tr>\n      <th>Centro Comercial Sambil</th>\n      <td>1.0</td>\n      <td>4.0</td>\n      <td>1.0</td>\n      <td>5.0</td>\n    </tr>\n    <tr>\n      <th>Downtown Center</th>\n      <td>1.0</td>\n      <td>6.0</td>\n      <td>0.0</td>\n      <td>2.0</td>\n    </tr>\n    <tr>\n      <th>Galer\u00eda 360</th>\n      <td>0.0</td>\n      <td>4.0</td>\n      <td>1.0</td>\n      <td>4.0</td>\n    </tr>\n    <tr>\n      <th>Silver Sun Gallery</th>\n      <td>1.0</td>\n      <td>5.0</td>\n      <td>0.0</td>\n      <td>6.0</td>\n    </tr>\n  </tbody>\n</table>\n</div>"
                    }, 
                    "execution_count": 174, 
                    "metadata": {}
                }
            ], 
            "execution_count": 174
        }, 
        {
            "source": "metro_over_2 = df_venues_count[df_venues_count['Food'] > 2].index.tolist()\ndf_park_locations_foursquare[(df_park_locations_foursquare['place'].isin(metro_over_2)) & (df_park_locations_foursquare.category == 'Food')]", 
            "cell_type": "code", 
            "metadata": {}, 
            "outputs": [
                {
                    "output_type": "execute_result", 
                    "data": {
                        "text/plain": "                      place  \\\n4                Agora Mall   \n5                Agora Mall   \n9                Agora Mall   \n10         Bella Vista Mall   \n11         Bella Vista Mall   \n12         Bella Vista Mall   \n13         Bella Vista Mall   \n18                Blue Mall   \n19                Blue Mall   \n20                Blue Mall   \n21                Blue Mall   \n25          Downtown Center   \n26          Downtown Center   \n27          Downtown Center   \n28          Downtown Center   \n29          Downtown Center   \n30          Downtown Center   \n36              Galer\u00eda 360   \n37              Galer\u00eda 360   \n38              Galer\u00eda 360   \n39              Galer\u00eda 360   \n53  Centro Comercial Sambil   \n54  Centro Comercial Sambil   \n55  Centro Comercial Sambil   \n56  Centro Comercial Sambil   \n64       Silver Sun Gallery   \n65       Silver Sun Gallery   \n66       Silver Sun Gallery   \n67       Silver Sun Gallery   \n68       Silver Sun Gallery   \n\n                                              address   Latitude  Longitude  \\\n4               Av. Abraham Lincoln y John F. Kennedy  18.483768 -69.939700   \n5               Av. Abraham Lincoln y John F. Kennedy  18.483768 -69.939700   \n9               Av. Abraham Lincoln y John F. Kennedy  18.483768 -69.939700   \n10                                       Av. Sarasota  18.453526 -69.942752   \n11                                       Av. Sarasota  18.453526 -69.942752   \n12                                       Av. Sarasota  18.453526 -69.942752   \n13                                       Av. Sarasota  18.453526 -69.942752   \n18          Av. Winston Churchill y Gustavo M. Ricart  18.471961 -69.941209   \n19          Av. Winston Churchill y Gustavo M. Ricart  18.471961 -69.941209   \n20          Av. Winston Churchill y Gustavo M. Ricart  18.471961 -69.941209   \n21          Av. Winston Churchill y Gustavo M. Ricart  18.471961 -69.941209   \n25  Av. Nu\u00f1ez de Caceres esq. R\u00f3mulo Betancourt, B...  18.451341 -69.952602   \n26  Av. Nu\u00f1ez de Caceres esq. R\u00f3mulo Betancourt, B...  18.451341 -69.952602   \n27  Av. Nu\u00f1ez de Caceres esq. R\u00f3mulo Betancourt, B...  18.451341 -69.952602   \n28  Av. Nu\u00f1ez de Caceres esq. R\u00f3mulo Betancourt, B...  18.451341 -69.952602   \n29  Av. Nu\u00f1ez de Caceres esq. R\u00f3mulo Betancourt, B...  18.451341 -69.952602   \n30  Av. Nu\u00f1ez de Caceres esq. R\u00f3mulo Betancourt, B...  18.451341 -69.952602   \n36                                Av. John F. Kennedy  18.483480 -69.936245   \n37                                Av. John F. Kennedy  18.483480 -69.936245   \n38                                Av. John F. Kennedy  18.483480 -69.936245   \n39                                Av. John F. Kennedy  18.483480 -69.936245   \n53                 Av. John F. Kennedy y M\u00e1ximo G\u00f3mez  18.483480 -69.936245   \n54                 Av. John F. Kennedy y M\u00e1ximo G\u00f3mez  18.483480 -69.936245   \n55                 Av. John F. Kennedy y M\u00e1ximo G\u00f3mez  18.483480 -69.936245   \n56                 Av. John F. Kennedy y M\u00e1ximo G\u00f3mez  18.483480 -69.936245   \n64              Av. Tiradentes y Gustavo Mej\u00eda Ricard  18.475384 -69.926768   \n65              Av. Tiradentes y Gustavo Mej\u00eda Ricard  18.475384 -69.926768   \n66              Av. Tiradentes y Gustavo Mej\u00eda Ricard  18.475384 -69.926768   \n67              Av. Tiradentes y Gustavo Mej\u00eda Ricard  18.475384 -69.926768   \n68              Av. Tiradentes y Gustavo Mej\u00eda Ricard  18.475384 -69.926768   \n\n   category     name  \n4      Food  hooters  \n5      Food  hooters  \n9      Food  hooters  \n10     Food  hooters  \n11     Food  hooters  \n12     Food  hooters  \n13     Food  hooters  \n18     Food  hooters  \n19     Food  hooters  \n20     Food  hooters  \n21     Food  hooters  \n25     Food  hooters  \n26     Food  hooters  \n27     Food  hooters  \n28     Food  hooters  \n29     Food  hooters  \n30     Food  hooters  \n36     Food  hooters  \n37     Food  hooters  \n38     Food  hooters  \n39     Food  hooters  \n53     Food  hooters  \n54     Food  hooters  \n55     Food  hooters  \n56     Food  hooters  \n64     Food  hooters  \n65     Food  hooters  \n66     Food  hooters  \n67     Food  hooters  \n68     Food  hooters  ", 
                        "text/html": "<div>\n<style scoped>\n    .dataframe tbody tr th:only-of-type {\n        vertical-align: middle;\n    }\n\n    .dataframe tbody tr th {\n        vertical-align: top;\n    }\n\n    .dataframe thead th {\n        text-align: right;\n    }\n</style>\n<table border=\"1\" class=\"dataframe\">\n  <thead>\n    <tr style=\"text-align: right;\">\n      <th></th>\n      <th>place</th>\n      <th>address</th>\n      <th>Latitude</th>\n      <th>Longitude</th>\n      <th>category</th>\n      <th>name</th>\n    </tr>\n  </thead>\n  <tbody>\n    <tr>\n      <th>4</th>\n      <td>Agora Mall</td>\n      <td>Av. Abraham Lincoln y John F. Kennedy</td>\n      <td>18.483768</td>\n      <td>-69.939700</td>\n      <td>Food</td>\n      <td>hooters</td>\n    </tr>\n    <tr>\n      <th>5</th>\n      <td>Agora Mall</td>\n      <td>Av. Abraham Lincoln y John F. Kennedy</td>\n      <td>18.483768</td>\n      <td>-69.939700</td>\n      <td>Food</td>\n      <td>hooters</td>\n    </tr>\n    <tr>\n      <th>9</th>\n      <td>Agora Mall</td>\n      <td>Av. Abraham Lincoln y John F. Kennedy</td>\n      <td>18.483768</td>\n      <td>-69.939700</td>\n      <td>Food</td>\n      <td>hooters</td>\n    </tr>\n    <tr>\n      <th>10</th>\n      <td>Bella Vista Mall</td>\n      <td>Av. Sarasota</td>\n      <td>18.453526</td>\n      <td>-69.942752</td>\n      <td>Food</td>\n      <td>hooters</td>\n    </tr>\n    <tr>\n      <th>11</th>\n      <td>Bella Vista Mall</td>\n      <td>Av. Sarasota</td>\n      <td>18.453526</td>\n      <td>-69.942752</td>\n      <td>Food</td>\n      <td>hooters</td>\n    </tr>\n    <tr>\n      <th>12</th>\n      <td>Bella Vista Mall</td>\n      <td>Av. Sarasota</td>\n      <td>18.453526</td>\n      <td>-69.942752</td>\n      <td>Food</td>\n      <td>hooters</td>\n    </tr>\n    <tr>\n      <th>13</th>\n      <td>Bella Vista Mall</td>\n      <td>Av. Sarasota</td>\n      <td>18.453526</td>\n      <td>-69.942752</td>\n      <td>Food</td>\n      <td>hooters</td>\n    </tr>\n    <tr>\n      <th>18</th>\n      <td>Blue Mall</td>\n      <td>Av. Winston Churchill y Gustavo M. Ricart</td>\n      <td>18.471961</td>\n      <td>-69.941209</td>\n      <td>Food</td>\n      <td>hooters</td>\n    </tr>\n    <tr>\n      <th>19</th>\n      <td>Blue Mall</td>\n      <td>Av. Winston Churchill y Gustavo M. Ricart</td>\n      <td>18.471961</td>\n      <td>-69.941209</td>\n      <td>Food</td>\n      <td>hooters</td>\n    </tr>\n    <tr>\n      <th>20</th>\n      <td>Blue Mall</td>\n      <td>Av. Winston Churchill y Gustavo M. Ricart</td>\n      <td>18.471961</td>\n      <td>-69.941209</td>\n      <td>Food</td>\n      <td>hooters</td>\n    </tr>\n    <tr>\n      <th>21</th>\n      <td>Blue Mall</td>\n      <td>Av. Winston Churchill y Gustavo M. Ricart</td>\n      <td>18.471961</td>\n      <td>-69.941209</td>\n      <td>Food</td>\n      <td>hooters</td>\n    </tr>\n    <tr>\n      <th>25</th>\n      <td>Downtown Center</td>\n      <td>Av. Nu\u00f1ez de Caceres esq. R\u00f3mulo Betancourt, B...</td>\n      <td>18.451341</td>\n      <td>-69.952602</td>\n      <td>Food</td>\n      <td>hooters</td>\n    </tr>\n    <tr>\n      <th>26</th>\n      <td>Downtown Center</td>\n      <td>Av. Nu\u00f1ez de Caceres esq. R\u00f3mulo Betancourt, B...</td>\n      <td>18.451341</td>\n      <td>-69.952602</td>\n      <td>Food</td>\n      <td>hooters</td>\n    </tr>\n    <tr>\n      <th>27</th>\n      <td>Downtown Center</td>\n      <td>Av. Nu\u00f1ez de Caceres esq. R\u00f3mulo Betancourt, B...</td>\n      <td>18.451341</td>\n      <td>-69.952602</td>\n      <td>Food</td>\n      <td>hooters</td>\n    </tr>\n    <tr>\n      <th>28</th>\n      <td>Downtown Center</td>\n      <td>Av. Nu\u00f1ez de Caceres esq. R\u00f3mulo Betancourt, B...</td>\n      <td>18.451341</td>\n      <td>-69.952602</td>\n      <td>Food</td>\n      <td>hooters</td>\n    </tr>\n    <tr>\n      <th>29</th>\n      <td>Downtown Center</td>\n      <td>Av. Nu\u00f1ez de Caceres esq. R\u00f3mulo Betancourt, B...</td>\n      <td>18.451341</td>\n      <td>-69.952602</td>\n      <td>Food</td>\n      <td>hooters</td>\n    </tr>\n    <tr>\n      <th>30</th>\n      <td>Downtown Center</td>\n      <td>Av. Nu\u00f1ez de Caceres esq. R\u00f3mulo Betancourt, B...</td>\n      <td>18.451341</td>\n      <td>-69.952602</td>\n      <td>Food</td>\n      <td>hooters</td>\n    </tr>\n    <tr>\n      <th>36</th>\n      <td>Galer\u00eda 360</td>\n      <td>Av. John F. Kennedy</td>\n      <td>18.483480</td>\n      <td>-69.936245</td>\n      <td>Food</td>\n      <td>hooters</td>\n    </tr>\n    <tr>\n      <th>37</th>\n      <td>Galer\u00eda 360</td>\n      <td>Av. John F. Kennedy</td>\n      <td>18.483480</td>\n      <td>-69.936245</td>\n      <td>Food</td>\n      <td>hooters</td>\n    </tr>\n    <tr>\n      <th>38</th>\n      <td>Galer\u00eda 360</td>\n      <td>Av. John F. Kennedy</td>\n      <td>18.483480</td>\n      <td>-69.936245</td>\n      <td>Food</td>\n      <td>hooters</td>\n    </tr>\n    <tr>\n      <th>39</th>\n      <td>Galer\u00eda 360</td>\n      <td>Av. John F. Kennedy</td>\n      <td>18.483480</td>\n      <td>-69.936245</td>\n      <td>Food</td>\n      <td>hooters</td>\n    </tr>\n    <tr>\n      <th>53</th>\n      <td>Centro Comercial Sambil</td>\n      <td>Av. John F. Kennedy y M\u00e1ximo G\u00f3mez</td>\n      <td>18.483480</td>\n      <td>-69.936245</td>\n      <td>Food</td>\n      <td>hooters</td>\n    </tr>\n    <tr>\n      <th>54</th>\n      <td>Centro Comercial Sambil</td>\n      <td>Av. John F. Kennedy y M\u00e1ximo G\u00f3mez</td>\n      <td>18.483480</td>\n      <td>-69.936245</td>\n      <td>Food</td>\n      <td>hooters</td>\n    </tr>\n    <tr>\n      <th>55</th>\n      <td>Centro Comercial Sambil</td>\n      <td>Av. John F. Kennedy y M\u00e1ximo G\u00f3mez</td>\n      <td>18.483480</td>\n      <td>-69.936245</td>\n      <td>Food</td>\n      <td>hooters</td>\n    </tr>\n    <tr>\n      <th>56</th>\n      <td>Centro Comercial Sambil</td>\n      <td>Av. John F. Kennedy y M\u00e1ximo G\u00f3mez</td>\n      <td>18.483480</td>\n      <td>-69.936245</td>\n      <td>Food</td>\n      <td>hooters</td>\n    </tr>\n    <tr>\n      <th>64</th>\n      <td>Silver Sun Gallery</td>\n      <td>Av. Tiradentes y Gustavo Mej\u00eda Ricard</td>\n      <td>18.475384</td>\n      <td>-69.926768</td>\n      <td>Food</td>\n      <td>hooters</td>\n    </tr>\n    <tr>\n      <th>65</th>\n      <td>Silver Sun Gallery</td>\n      <td>Av. Tiradentes y Gustavo Mej\u00eda Ricard</td>\n      <td>18.475384</td>\n      <td>-69.926768</td>\n      <td>Food</td>\n      <td>hooters</td>\n    </tr>\n    <tr>\n      <th>66</th>\n      <td>Silver Sun Gallery</td>\n      <td>Av. Tiradentes y Gustavo Mej\u00eda Ricard</td>\n      <td>18.475384</td>\n      <td>-69.926768</td>\n      <td>Food</td>\n      <td>hooters</td>\n    </tr>\n    <tr>\n      <th>67</th>\n      <td>Silver Sun Gallery</td>\n      <td>Av. Tiradentes y Gustavo Mej\u00eda Ricard</td>\n      <td>18.475384</td>\n      <td>-69.926768</td>\n      <td>Food</td>\n      <td>hooters</td>\n    </tr>\n    <tr>\n      <th>68</th>\n      <td>Silver Sun Gallery</td>\n      <td>Av. Tiradentes y Gustavo Mej\u00eda Ricard</td>\n      <td>18.475384</td>\n      <td>-69.926768</td>\n      <td>Food</td>\n      <td>hooters</td>\n    </tr>\n  </tbody>\n</table>\n</div>"
                    }, 
                    "execution_count": 179, 
                    "metadata": {}
                }
            ], 
            "execution_count": 179
        }, 
        {
            "source": "", 
            "cell_type": "code", 
            "metadata": {}, 
            "outputs": [], 
            "execution_count": null
        }, 
        {
            "source": "f, axes = plt.subplots(2, 2, figsize=(10, 10))\nsns.distplot(df_venues_count['Arts & Entertainment'] , color=\"skyblue\", ax=axes[0, 0], kde=False)\nsns.distplot(df_venues_count['Metro Station'] , color=\"olive\", ax=axes[0, 1], kde=False)\nsns.distplot(df_venues_count['Food'] , color=\"gold\", ax=axes[1, 0], kde=False)\nsns.distplot(df_venues_count['Shop & Service'] , color=\"teal\", ax=axes[1, 1], kde=False)", 
            "cell_type": "code", 
            "metadata": {}, 
            "outputs": [
                {
                    "output_type": "execute_result", 
                    "data": {
                        "text/plain": "<matplotlib.axes._subplots.AxesSubplot at 0x7f867aa8a860>"
                    }, 
                    "execution_count": 182, 
                    "metadata": {}
                }, 
                {
                    "output_type": "display_data", 
                    "data": {
                        "image/png": "[encoded data removed]", 
                        "text/plain": "<matplotlib.figure.Figure at 0x7f867abd9c88>"
                    }, 
                    "metadata": {}
                }
            ], 
            "execution_count": 182
        }, 
        {
            "source": "df_venues_count.corr()", 
            "cell_type": "code", 
            "metadata": {}, 
            "outputs": [
                {
                    "output_type": "execute_result", 
                    "data": {
                        "text/plain": "category              Arts & Entertainment      Food  Metro Station  \\\ncategory                                                              \nArts & Entertainment              1.000000  0.056888      -0.240563   \nFood                              0.056888  1.000000       0.197066   \nMetro Station                    -0.240563  0.197066       1.000000   \nShop & Service                    0.189443  0.332549       0.427083   \n\ncategory              Shop & Service  \ncategory                              \nArts & Entertainment        0.189443  \nFood                        0.332549  \nMetro Station               0.427083  \nShop & Service              1.000000  ", 
                        "text/html": "<div>\n<style scoped>\n    .dataframe tbody tr th:only-of-type {\n        vertical-align: middle;\n    }\n\n    .dataframe tbody tr th {\n        vertical-align: top;\n    }\n\n    .dataframe thead th {\n        text-align: right;\n    }\n</style>\n<table border=\"1\" class=\"dataframe\">\n  <thead>\n    <tr style=\"text-align: right;\">\n      <th>category</th>\n      <th>Arts &amp; Entertainment</th>\n      <th>Food</th>\n      <th>Metro Station</th>\n      <th>Shop &amp; Service</th>\n    </tr>\n    <tr>\n      <th>category</th>\n      <th></th>\n      <th></th>\n      <th></th>\n      <th></th>\n    </tr>\n  </thead>\n  <tbody>\n    <tr>\n      <th>Arts &amp; Entertainment</th>\n      <td>1.000000</td>\n      <td>0.056888</td>\n      <td>-0.240563</td>\n      <td>0.189443</td>\n    </tr>\n    <tr>\n      <th>Food</th>\n      <td>0.056888</td>\n      <td>1.000000</td>\n      <td>0.197066</td>\n      <td>0.332549</td>\n    </tr>\n    <tr>\n      <th>Metro Station</th>\n      <td>-0.240563</td>\n      <td>0.197066</td>\n      <td>1.000000</td>\n      <td>0.427083</td>\n    </tr>\n    <tr>\n      <th>Shop &amp; Service</th>\n      <td>0.189443</td>\n      <td>0.332549</td>\n      <td>0.427083</td>\n      <td>1.000000</td>\n    </tr>\n  </tbody>\n</table>\n</div>"
                    }, 
                    "execution_count": 183, 
                    "metadata": {}
                }
            ], 
            "execution_count": 183
        }, 
        {
            "source": "Find P-Value of the variables\n\nBy convention, when the p-value is:\n\n< 0.001 we say there is strong evidence that the correlation is significant,\n< 0.05; there is moderate evidence that the correlation is significant,\n< 0.1; there is weak evidence that the correlation is significant, and\nis > 0.1; there is no evidence that the correlation is significant.", 
            "cell_type": "markdown", 
            "metadata": {}
        }, 
        {
            "source": "from scipy import stats", 
            "cell_type": "code", 
            "metadata": {}, 
            "outputs": [], 
            "execution_count": 184
        }, 
        {
            "source": "p_value_data = []\nfor left in df_venues_count.columns:\n    p_values = [left]\n    for right in df_venues_count.columns:        \n        pearson_coef, p_value = stats.pearsonr(df_venues_count[left], df_venues_count[right])\n        if(p_value < 0.001):\n            p_values.append('strong')\n        elif(p_value < 0.05):\n            p_values.append('moderate')\n        elif(p_value < 0.1):\n            p_values.append('weak')\n        else:\n            p_values.append('no')            \n    p_value_data.append(p_values)", 
            "cell_type": "code", 
            "metadata": {}, 
            "outputs": [], 
            "execution_count": 185
        }, 
        {
            "source": "df_p_values = pd.DataFrame(p_value_data, columns=['Category'] + df_venues_count.columns.tolist())\ndf_p_values", 
            "cell_type": "code", 
            "metadata": {}, 
            "outputs": [
                {
                    "output_type": "execute_result", 
                    "data": {
                        "text/plain": "               Category Arts & Entertainment    Food Metro Station  \\\n0  Arts & Entertainment               strong      no            no   \n1                  Food                   no  strong            no   \n2         Metro Station                   no      no        strong   \n3        Shop & Service                   no      no            no   \n\n  Shop & Service  \n0             no  \n1             no  \n2             no  \n3         strong  ", 
                        "text/html": "<div>\n<style scoped>\n    .dataframe tbody tr th:only-of-type {\n        vertical-align: middle;\n    }\n\n    .dataframe tbody tr th {\n        vertical-align: top;\n    }\n\n    .dataframe thead th {\n        text-align: right;\n    }\n</style>\n<table border=\"1\" class=\"dataframe\">\n  <thead>\n    <tr style=\"text-align: right;\">\n      <th></th>\n      <th>Category</th>\n      <th>Arts &amp; Entertainment</th>\n      <th>Food</th>\n      <th>Metro Station</th>\n      <th>Shop &amp; Service</th>\n    </tr>\n  </thead>\n  <tbody>\n    <tr>\n      <th>0</th>\n      <td>Arts &amp; Entertainment</td>\n      <td>strong</td>\n      <td>no</td>\n      <td>no</td>\n      <td>no</td>\n    </tr>\n    <tr>\n      <th>1</th>\n      <td>Food</td>\n      <td>no</td>\n      <td>strong</td>\n      <td>no</td>\n      <td>no</td>\n    </tr>\n    <tr>\n      <th>2</th>\n      <td>Metro Station</td>\n      <td>no</td>\n      <td>no</td>\n      <td>strong</td>\n      <td>no</td>\n    </tr>\n    <tr>\n      <th>3</th>\n      <td>Shop &amp; Service</td>\n      <td>no</td>\n      <td>no</td>\n      <td>no</td>\n      <td>strong</td>\n    </tr>\n  </tbody>\n</table>\n</div>"
                    }, 
                    "execution_count": 187, 
                    "metadata": {}
                }
            ], 
            "execution_count": 187
        }, 
        {
            "source": "!conda install -c conda-forge folium=0.5 --yes\nimport folium\n\nprint('Folium installed and imported!')", 
            "cell_type": "code", 
            "metadata": {}, 
            "outputs": [
                {
                    "output_type": "stream", 
                    "name": "stdout", 
                    "text": "Solving environment: done\n\n## Package Plan ##\n\n  environment location: /opt/conda/envs/DSX-Python35\n\n  added / updated specs: \n    - folium=0.5\n\n\nThe following packages will be downloaded:\n\n    package                    |            build\n    ---------------------------|-----------------\n    vincent-0.4.4              |             py_1          28 KB  conda-forge\n    branca-0.3.1               |             py_0          25 KB  conda-forge\n    openssl-1.0.2r             |       h14c3975_0         3.1 MB  conda-forge\n    certifi-2018.8.24          |        py35_1001         139 KB  conda-forge\n    altair-2.2.2               |           py35_1         462 KB  conda-forge\n    folium-0.5.0               |             py_0          45 KB  conda-forge\n    ca-certificates-2019.3.9   |       hecc5488_0         146 KB  conda-forge\n    ------------------------------------------------------------\n                                           Total:         4.0 MB\n\nThe following NEW packages will be INSTALLED:\n\n    altair:          2.2.2-py35_1      conda-forge\n    branca:          0.3.1-py_0        conda-forge\n    folium:          0.5.0-py_0        conda-forge\n    vincent:         0.4.4-py_1        conda-forge\n\nThe following packages will be UPDATED:\n\n    ca-certificates: 2019.1.23-0                   --> 2019.3.9-hecc5488_0 conda-forge\n    certifi:         2018.8.24-py35_1              --> 2018.8.24-py35_1001 conda-forge\n\nThe following packages will be DOWNGRADED:\n\n    openssl:         1.0.2s-h7b6447c_0             --> 1.0.2r-h14c3975_0   conda-forge\n\n\nDownloading and Extracting Packages\nvincent-0.4.4        | 28 KB     | ##################################### | 100% \nbranca-0.3.1         | 25 KB     | ##################################### | 100% \nopenssl-1.0.2r       | 3.1 MB    | ##################################### | 100% \ncertifi-2018.8.24    | 139 KB    | ##################################### | 100% \naltair-2.2.2         | 462 KB    | ##################################### | 100% \nfolium-0.5.0         | 45 KB     | ##################################### | 100% \nca-certificates-2019 | 146 KB    | ##################################### | 100% \nPreparing transaction: done\nVerifying transaction: done\nExecuting transaction: done\nFolium installed and imported!\n"
                }
            ], 
            "execution_count": 188
        }, 
        {
            "source": "hk_coords = getLatLng('Dominican Republic')", 
            "cell_type": "code", 
            "metadata": {}, 
            "outputs": [], 
            "execution_count": 189
        }, 
        {
            "source": "hk_map = folium.Map(location=hk_coords, zoom_start=12, tiles='Stamen Toner')\n\ncinemas_fg = folium.FeatureGroup()\ntargets_fg = folium.FeatureGroup()\n\nfor(location, address, latitude, longitude) in possible_park_locations.itertuples(index=False):\n    targets_fg.add_child(\n        folium.features.CircleMarker(\n            location=(latitude, longitude),\n            popup=location,\n            radius=5,\n            fill=True,\n            color='yellow',\n            fill_opacity=1.\n        )\n    )\n\nboss_ratings = df_boss_favorite.set_index('Name')    \nname_list = boss_ratings.index.tolist()\n\nfor (name, address, latitude, longitude ) in park_locations.itertuples(index=False):    \n    \n    color = 'blue'        \n    popup = name\n    \n    if( name in name_list ):\n        color = 'red'    \n        popup = '{} - Rating: {}'.format(name, df_government_favorite_parks.loc[name,'Rating'])\n        \n    cinemas_fg.add_child(        \n        folium.features.CircleMarker(\n            location=(latitude, longitude),\n            popup=popup,\n            radius=5,\n            fill=True,\n            color=color,\n            fill_opacity=1.\n        )\n    )\n    \nhk_map.add_child(cinemas_fg)\nhk_map.add_child(targets_fg)", 
            "cell_type": "code", 
            "metadata": {}, 
            "outputs": [
                {
                    "output_type": "error", 
                    "evalue": "'list' object has no attribute 'itertuples'", 
                    "traceback": [
                        "\u001b[0;31m---------------------------------------------------------------------------\u001b[0m", 
                        "\u001b[0;31mAttributeError\u001b[0m                            Traceback (most recent call last)", 
                        "\u001b[0;32m<ipython-input-191-8bdf04165681>\u001b[0m in \u001b[0;36m<module>\u001b[0;34m()\u001b[0m\n\u001b[1;32m      4\u001b[0m \u001b[0mtargets_fg\u001b[0m \u001b[0;34m=\u001b[0m \u001b[0mfolium\u001b[0m\u001b[0;34m.\u001b[0m\u001b[0mFeatureGroup\u001b[0m\u001b[0;34m(\u001b[0m\u001b[0;34m)\u001b[0m\u001b[0;34m\u001b[0m\u001b[0m\n\u001b[1;32m      5\u001b[0m \u001b[0;34m\u001b[0m\u001b[0m\n\u001b[0;32m----> 6\u001b[0;31m \u001b[0;32mfor\u001b[0m\u001b[0;34m(\u001b[0m\u001b[0mlocation\u001b[0m\u001b[0;34m,\u001b[0m \u001b[0maddress\u001b[0m\u001b[0;34m,\u001b[0m \u001b[0mlatitude\u001b[0m\u001b[0;34m,\u001b[0m \u001b[0mlongitude\u001b[0m\u001b[0;34m)\u001b[0m \u001b[0;32min\u001b[0m \u001b[0mpossible_park_locations\u001b[0m\u001b[0;34m.\u001b[0m\u001b[0mitertuples\u001b[0m\u001b[0;34m(\u001b[0m\u001b[0mindex\u001b[0m\u001b[0;34m=\u001b[0m\u001b[0;32mFalse\u001b[0m\u001b[0;34m)\u001b[0m\u001b[0;34m:\u001b[0m\u001b[0;34m\u001b[0m\u001b[0m\n\u001b[0m\u001b[1;32m      7\u001b[0m     targets_fg.add_child(\n\u001b[1;32m      8\u001b[0m         folium.features.CircleMarker(\n", 
                        "\u001b[0;31mAttributeError\u001b[0m: 'list' object has no attribute 'itertuples'"
                    ], 
                    "ename": "AttributeError"
                }
            ], 
            "execution_count": 191
        }, 
        {
            "source": "Most of Dominican parks (blue circle) and stakeholder's favorite parks (red circle) location are built near main road, and centralized in urban area of Dominican Republic. The target locations (yellow circle) of new cinema are not near to main road.\n\n\n### Machine Learning\nNow, let's use Content-Based or Item-Item recommendation systems. In this case, I am going to try to figure out the boss's favorite new cinema location by counting number of nearby venues and ratings given.\n\nNormalize the values of venues dataframe by using MinMaxScaler method", 
            "cell_type": "markdown", 
            "metadata": {}
        }, 
        {
            "source": "", 
            "cell_type": "code", 
            "metadata": {}, 
            "outputs": [], 
            "execution_count": null
        }, 
        {
            "source": "", 
            "cell_type": "code", 
            "metadata": {}, 
            "outputs": [], 
            "execution_count": null
        }, 
        {
            "source": "# Results", 
            "cell_type": "markdown", 
            "metadata": {}
        }, 
        {
            "source": "Results section where you discuss the results.\n\nWith the boss's profile and the complete list of parks and their venues count in hand, I am going to take the weighted average of every location based on the profile and recommend the top location that most satisfy it.", 
            "cell_type": "markdown", 
            "metadata": {}
        }, 
        {
            "source": "The result is reasonable. Location \"L5\" has the most number of venues in category \"Bus Stop\", \"Food\", \"Metro Station\" and \"Shop & Service\".", 
            "cell_type": "markdown", 
            "metadata": {}
        }, 
        {
            "source": "print('I should recommend the location \"{}\" of address \"{}\" to the stackholder'.format(df_final.iat[0,0], df_final.iat[0,1]))", 
            "cell_type": "code", 
            "metadata": {}, 
            "outputs": [], 
            "execution_count": null
        }, 
        {
            "source": "# Discussion", 
            "cell_type": "markdown", 
            "metadata": {}
        }, 
        {
            "source": "I should contact local commercial property agents to find more suitable locations. Moreover, FourSquare is not popular in Hong Kong, the data maybe out-dated or unreliable, the report should gather more data from other location data source such as Google Place API.", 
            "cell_type": "markdown", 
            "metadata": {}
        }, 
        {
            "source": "df_venues_count.mean().to_frame(name='Average Count')\ndf_target_venues_count.mean().to_frame('Average Count')", 
            "cell_type": "code", 
            "metadata": {}, 
            "outputs": [], 
            "execution_count": null
        }, 
        {
            "source": "# Conclusion", 
            "cell_type": "markdown", 
            "metadata": {}
        }, 
        {
            "source": "\nConclusion section where you conclude the report.\n\nThe stakeholder's problem is resolved. Stakeholder wants to find the best place to build a new park in Dominican Reublic, and the factors of \"best location\" is based on the number of venues in eating, shopping, transportation category around the location. Stakeholder also provide his favorite list of park to further explain what the \"best location\" is. Content-based filtering machine learning technique is the most suitable method to resolve the problem. It combines stakeholder's preference and cinema profile to make the recommendation result.\n\nThe 5 target locations of new park may not be a good choices. As the weighting matrix is developed, I can quickly pick other locations and make the recommendation again.", 
            "cell_type": "markdown", 
            "metadata": {}
        }
    ], 
    "metadata": {
        "kernelspec": {
            "display_name": "Python 3.5", 
            "name": "python3", 
            "language": "python"
        }, 
        "language_info": {
            "mimetype": "text/x-python", 
            "nbconvert_exporter": "python", 
            "version": "3.5.5", 
            "name": "python", 
            "file_extension": ".py", 
            "pygments_lexer": "ipython3", 
            "codemirror_mode": {
                "version": 3, 
                "name": "ipython"
            }
        }
    }, 
    "nbformat": 4
}