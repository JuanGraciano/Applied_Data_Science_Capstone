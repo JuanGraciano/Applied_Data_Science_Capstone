{
    "nbformat_minor": 1, 
    "cells": [
        {
            "source": "# Introduction\n\n\n\u201cWould you recommend a location in Dominican Republic to open a new park?\u201d\nThe government wants to open a new park. They said park has a lot of attraction and people can run, play, stay with their families, etc.\n\nThe government want to concentrated on selection of park location according to irs nearby environment. They has some locations where they want to concentrate the park.\n\nI work with my teammates and select 5 possible locations to build the park. Which location should be suggested to the stakeholder?\n", 
            "cell_type": "markdown", 
            "metadata": {
                "collapsed": true
            }
        }, 
        {
            "source": "# Data\n\nAccording to the question, following data are required.\n\n1. Geographic coordinate of Dominican Republic parks\nI need to compare 5 possible locations with current park in Dominican Republic. Therefore, I need to find a list of Dominican Republic parks and parks geographic coordinates.\n", 
            "cell_type": "markdown", 
            "metadata": {}
        }, 
        {
            "source": "# Import necessary library\nimport json\nimport pandas as pd", 
            "cell_type": "code", 
            "metadata": {}, 
            "outputs": [], 
            "execution_count": 7
        }, 
        {
            "source": "park_locations = [\n    { 'Location': 'P1', 'Address': 'Parque Iberoam\u00e9rica, Santo Domingo'},\n    { 'Location': 'P2', 'Address': 'Parque Eugenio Maria de Hostos, Santo Domingo'},\n    { 'Location': 'P3', 'Address': 'Summit Trampoline Park, Santo Domingo'},\n    { 'Location': 'P4', 'Address': 'Parque La Arboleda, Santo Domingo'},\n    { 'Location': 'P5', 'Address': 'Parque Independencia, Santo Domingo'},\n]", 
            "cell_type": "code", 
            "metadata": {}, 
            "outputs": [], 
            "execution_count": 8
        }, 
        {
            "source": "# install the google map api client library\n!pip install -U googlemaps", 
            "cell_type": "code", 
            "metadata": {}, 
            "outputs": [
                {
                    "output_type": "stream", 
                    "name": "stdout", 
                    "text": "Collecting googlemaps\n  Downloading https://files.pythonhosted.org/packages/5a/3d/13b4230f3c1b8a586cdc8d8179f3c6af771c11247f8de9c166d1ab37f51d/googlemaps-3.0.2.tar.gz\nRequirement not upgraded as not directly required: requests<3.0,>=2.11.1 in /opt/conda/envs/DSX-Python35/lib/python3.5/site-packages (from googlemaps) (2.18.4)\nRequirement not upgraded as not directly required: chardet<3.1.0,>=3.0.2 in /opt/conda/envs/DSX-Python35/lib/python3.5/site-packages (from requests<3.0,>=2.11.1->googlemaps) (3.0.4)\nRequirement not upgraded as not directly required: idna<2.7,>=2.5 in /opt/conda/envs/DSX-Python35/lib/python3.5/site-packages (from requests<3.0,>=2.11.1->googlemaps) (2.6)\nRequirement not upgraded as not directly required: urllib3<1.23,>=1.21.1 in /opt/conda/envs/DSX-Python35/lib/python3.5/site-packages (from requests<3.0,>=2.11.1->googlemaps) (1.22)\nRequirement not upgraded as not directly required: certifi>=2017.4.17 in /opt/conda/envs/DSX-Python35/lib/python3.5/site-packages (from requests<3.0,>=2.11.1->googlemaps) (2019.3.9)\nBuilding wheels for collected packages: googlemaps\n  Running setup.py bdist_wheel for googlemaps ... \u001b[?25ldone\n\u001b[?25h  Stored in directory: /home/dsxuser/.cache/pip/wheels/3c/3f/25/ce6d7722dba07e5d4a12d27ab38f3d7add65ef43171b02c819\nSuccessfully built googlemaps\n\u001b[31mtensorflow 1.3.0 requires tensorflow-tensorboard<0.2.0,>=0.1.0, which is not installed.\u001b[0m\nInstalling collected packages: googlemaps\nSuccessfully installed googlemaps-3.0.2\n"
                }
            ], 
            "execution_count": 2
        }, 
        {
            "source": "# google_act = None\n# with open('google_map_act.json', 'r') as f:\n#     google_act = json.load(f)\n      \nGOOGLE_MAP_API_KEY = 'key'\nimport googlemaps\ngmaps = googlemaps.Client(key=GOOGLE_MAP_API_KEY)", 
            "cell_type": "code", 
            "metadata": {}, 
            "outputs": [], 
            "execution_count": 3
        }, 
        {
            "source": "# latlnt = gmaps.geocode('1600 Amphitheatre Parkway, Mountain View, CA')\n# print(latlnt)", 
            "cell_type": "code", 
            "metadata": {}, 
            "outputs": [
                {
                    "output_type": "stream", 
                    "name": "stdout", 
                    "text": "[{'geometry': {'viewport': {'northeast': {'lat': 37.4238671802915, 'lng': -122.0846454197085}, 'southwest': {'lat': 37.4211692197085, 'lng': -122.0873433802915}}, 'location_type': 'ROOFTOP', 'location': {'lat': 37.4225182, 'lng': -122.0859944}}, 'plus_code': {'global_code': '849VCWF7+4Q', 'compound_code': 'CWF7+4Q Mountain View, California, United States'}, 'types': ['street_address'], 'formatted_address': '1600 Amphitheatre Pkwy, Mountain View, CA 94043, USA', 'address_components': [{'types': ['street_number'], 'short_name': '1600', 'long_name': '1600'}, {'types': ['route'], 'short_name': 'Amphitheatre Pkwy', 'long_name': 'Amphitheatre Parkway'}, {'types': ['locality', 'political'], 'short_name': 'Mountain View', 'long_name': 'Mountain View'}, {'types': ['administrative_area_level_2', 'political'], 'short_name': 'Santa Clara County', 'long_name': 'Santa Clara County'}, {'types': ['administrative_area_level_1', 'political'], 'short_name': 'CA', 'long_name': 'California'}, {'types': ['country', 'political'], 'short_name': 'US', 'long_name': 'United States'}, {'types': ['postal_code'], 'short_name': '94043', 'long_name': '94043'}], 'place_id': 'ChIJtYuu0V25j4ARwu5e4wwRYgE'}]\n"
                }
            ], 
            "execution_count": 6
        }, 
        {
            "source": "# Retrieve geolocation and create the dataframe of pending cinema addresses\ndef getLatLng(address):\n    latlnt = gmaps.geocode('{}, Dominican Republic'.format(address))\n    return (latlnt[0]['geometry']['location']['lat'], latlnt[0]['geometry']['location']['lng'])", 
            "cell_type": "code", 
            "metadata": {}, 
            "outputs": [], 
            "execution_count": 9
        }, 
        {
            "source": "for loc in park_locations:        \n    (lat, lng) = getLatLng(loc['Address'])\n    loc['Latitude'] = lat\n    loc['Longitude'] = lng\n    \ndf_park_locations = pd.DataFrame(park_locations, columns=['Location', 'Address', 'Latitude', 'Longitude'])\ndf_park_locations", 
            "cell_type": "code", 
            "metadata": {}, 
            "outputs": [
                {
                    "output_type": "execute_result", 
                    "data": {
                        "text/plain": "  Location                                        Address   Latitude  \\\n0       P1             Parque Iberoam\u00e9rica, Santo Domingo  18.466966   \n1       P2  Parque Eugenio Maria de Hostos, Santo Domingo  18.465620   \n2       P3          Summit Trampoline Park, Santo Domingo  18.482666   \n3       P4              Parque La Arboleda, Santo Domingo  18.477172   \n4       P5            Parque Independencia, Santo Domingo  18.471297   \n\n   Longitude  \n0 -69.918556  \n1 -69.893933  \n2 -69.912344  \n3 -69.922837  \n4 -69.891941  ", 
                        "text/html": "<div>\n<style scoped>\n    .dataframe tbody tr th:only-of-type {\n        vertical-align: middle;\n    }\n\n    .dataframe tbody tr th {\n        vertical-align: top;\n    }\n\n    .dataframe thead th {\n        text-align: right;\n    }\n</style>\n<table border=\"1\" class=\"dataframe\">\n  <thead>\n    <tr style=\"text-align: right;\">\n      <th></th>\n      <th>Location</th>\n      <th>Address</th>\n      <th>Latitude</th>\n      <th>Longitude</th>\n    </tr>\n  </thead>\n  <tbody>\n    <tr>\n      <th>0</th>\n      <td>P1</td>\n      <td>Parque Iberoam\u00e9rica, Santo Domingo</td>\n      <td>18.466966</td>\n      <td>-69.918556</td>\n    </tr>\n    <tr>\n      <th>1</th>\n      <td>P2</td>\n      <td>Parque Eugenio Maria de Hostos, Santo Domingo</td>\n      <td>18.465620</td>\n      <td>-69.893933</td>\n    </tr>\n    <tr>\n      <th>2</th>\n      <td>P3</td>\n      <td>Summit Trampoline Park, Santo Domingo</td>\n      <td>18.482666</td>\n      <td>-69.912344</td>\n    </tr>\n    <tr>\n      <th>3</th>\n      <td>P4</td>\n      <td>Parque La Arboleda, Santo Domingo</td>\n      <td>18.477172</td>\n      <td>-69.922837</td>\n    </tr>\n    <tr>\n      <th>4</th>\n      <td>P5</td>\n      <td>Parque Independencia, Santo Domingo</td>\n      <td>18.471297</td>\n      <td>-69.891941</td>\n    </tr>\n  </tbody>\n</table>\n</div>"
                    }, 
                    "execution_count": 10, 
                    "metadata": {}
                }
            ], 
            "execution_count": 10
        }, 
        {
            "source": "possible_park_locations = [\n    { 'Location': 'L1', 'Address': 'Bosque de la Vida, Santo Domingo'},\n    { 'Location': 'L2', 'Address': 'Club Los Prados, Inc., Santo Domingo'},\n    { 'Location': 'L3', 'Address': 'Club Deportivo y Cultural Metropolitano, Santo Domingo'},\n    { 'Location': 'L4', 'Address': 'Fuente Centro de los Heroes, Santo Domingo'},\n    { 'Location': 'L5', 'Address': 'Estadio La Normal, Santo Domingo'},\n]", 
            "cell_type": "code", 
            "metadata": {}, 
            "outputs": [], 
            "execution_count": 20
        }, 
        {
            "source": "for loc in possible_park_locations:        \n    (lat, lng) = getLatLng(loc['Address'])\n    loc['Latitude'] = lat\n    loc['Longitude'] = lng\n    \ndf_possible_park_locations = pd.DataFrame(possible_park_locations, columns=['Location', 'Address', 'Latitude', 'Longitude'])\ndf_possible_park_locations", 
            "cell_type": "code", 
            "metadata": {}, 
            "outputs": [
                {
                    "output_type": "execute_result", 
                    "data": {
                        "text/plain": "  Location                                            Address   Latitude  \\\n0       L1                   Bosque de la Vida, Santo Domingo  18.478150   \n1       L2               Club Los Prados, Inc., Santo Domingo  18.472567   \n2       L3  Club Deportivo y Cultural Metropolitano, Santo...  18.465488   \n3       L4         Fuente Centro de los Heroes, Santo Domingo  18.448865   \n4       L5                   Estadio La Normal, Santo Domingo  18.491626   \n\n   Longitude  \n0 -69.935772  \n1 -69.956904  \n2 -69.951870  \n3 -69.926187  \n4 -69.899758  ", 
                        "text/html": "<div>\n<style scoped>\n    .dataframe tbody tr th:only-of-type {\n        vertical-align: middle;\n    }\n\n    .dataframe tbody tr th {\n        vertical-align: top;\n    }\n\n    .dataframe thead th {\n        text-align: right;\n    }\n</style>\n<table border=\"1\" class=\"dataframe\">\n  <thead>\n    <tr style=\"text-align: right;\">\n      <th></th>\n      <th>Location</th>\n      <th>Address</th>\n      <th>Latitude</th>\n      <th>Longitude</th>\n    </tr>\n  </thead>\n  <tbody>\n    <tr>\n      <th>0</th>\n      <td>L1</td>\n      <td>Bosque de la Vida, Santo Domingo</td>\n      <td>18.478150</td>\n      <td>-69.935772</td>\n    </tr>\n    <tr>\n      <th>1</th>\n      <td>L2</td>\n      <td>Club Los Prados, Inc., Santo Domingo</td>\n      <td>18.472567</td>\n      <td>-69.956904</td>\n    </tr>\n    <tr>\n      <th>2</th>\n      <td>L3</td>\n      <td>Club Deportivo y Cultural Metropolitano, Santo...</td>\n      <td>18.465488</td>\n      <td>-69.951870</td>\n    </tr>\n    <tr>\n      <th>3</th>\n      <td>L4</td>\n      <td>Fuente Centro de los Heroes, Santo Domingo</td>\n      <td>18.448865</td>\n      <td>-69.926187</td>\n    </tr>\n    <tr>\n      <th>4</th>\n      <td>L5</td>\n      <td>Estadio La Normal, Santo Domingo</td>\n      <td>18.491626</td>\n      <td>-69.899758</td>\n    </tr>\n  </tbody>\n</table>\n</div>"
                    }, 
                    "execution_count": 21, 
                    "metadata": {}
                }
            ], 
            "execution_count": 21
        }, 
        {
            "source": "government_favorite_parks = [\n    {'Name': 'Parque Iberoam\u00e9rica', 'Rating': 4.5},\n    {'Name': 'Parque La Lira o Ruben Dario', 'Rating': 4.5},\n    {'Name': 'Parque Ambiental Jos\u00e9 N\u00fa\u00f1ez de C\u00e1ceres', 'Rating': 4.3},\n    {'Name': 'Parque Zool\u00f3gico Nacional', 'Rating': 3.4},\n    {'Name': 'Parque Nacional Los Tres Ojos', 'Rating': 2.3},\n    {'Name': 'Parque De La Esperanza', 'Rating': 1.5},\n]\n\ndf_government_favorite_parks = pd.DataFrame(government_favorite_parks, columns=['Name','Rating'])\ndf_government_favorite_parks", 
            "cell_type": "code", 
            "metadata": {}, 
            "outputs": [
                {
                    "output_type": "execute_result", 
                    "data": {
                        "text/plain": "                                     Name  Rating\n0                     Parque Iberoam\u00e9rica     4.5\n1            Parque La Lira o Ruben Dario     4.5\n2  Parque Ambiental Jos\u00e9 N\u00fa\u00f1ez de C\u00e1ceres     4.3\n3               Parque Zool\u00f3gico Nacional     3.4\n4           Parque Nacional Los Tres Ojos     2.3\n5                  Parque De La Esperanza     1.5", 
                        "text/html": "<div>\n<style scoped>\n    .dataframe tbody tr th:only-of-type {\n        vertical-align: middle;\n    }\n\n    .dataframe tbody tr th {\n        vertical-align: top;\n    }\n\n    .dataframe thead th {\n        text-align: right;\n    }\n</style>\n<table border=\"1\" class=\"dataframe\">\n  <thead>\n    <tr style=\"text-align: right;\">\n      <th></th>\n      <th>Name</th>\n      <th>Rating</th>\n    </tr>\n  </thead>\n  <tbody>\n    <tr>\n      <th>0</th>\n      <td>Parque Iberoam\u00e9rica</td>\n      <td>4.5</td>\n    </tr>\n    <tr>\n      <th>1</th>\n      <td>Parque La Lira o Ruben Dario</td>\n      <td>4.5</td>\n    </tr>\n    <tr>\n      <th>2</th>\n      <td>Parque Ambiental Jos\u00e9 N\u00fa\u00f1ez de C\u00e1ceres</td>\n      <td>4.3</td>\n    </tr>\n    <tr>\n      <th>3</th>\n      <td>Parque Zool\u00f3gico Nacional</td>\n      <td>3.4</td>\n    </tr>\n    <tr>\n      <th>4</th>\n      <td>Parque Nacional Los Tres Ojos</td>\n      <td>2.3</td>\n    </tr>\n    <tr>\n      <th>5</th>\n      <td>Parque De La Esperanza</td>\n      <td>1.5</td>\n    </tr>\n  </tbody>\n</table>\n</div>"
                    }, 
                    "execution_count": 23, 
                    "metadata": {}
                }
            ], 
            "execution_count": 23
        }, 
        {
            "source": "The recommended park location needs to have many eating and shopping venues nearby. Convenient public transport is also required.\nThese data can be found by using FourSquare API to find these venues around the location. The radius of exploration distance is set to 500 meters, which is about 5 minutes walking distance.", 
            "cell_type": "markdown", 
            "metadata": {}
        }, 
        {
            "source": "\nfs_categories = {\n    'Food': '4d4b7105d754a06374d81259',\n    'Shop & Service': '4d4b7105d754a06378d81259',\n    'Bus Stop': '52f2ab2ebcbc57f1066b8b4f',\n    'Metro Station': '4bf58dd8d48988d1fd931735',\n    'Nightlife Spot': '4d4b7105d754a06376d81259',\n    'Arts & Entertainment': '4d4b7104d754a06370d81259'\n}", 
            "cell_type": "code", 
            "metadata": {}, 
            "outputs": [], 
            "execution_count": 24
        }, 
        {
            "source": "# Install FourSquare client library\n!pip install foursquare", 
            "cell_type": "code", 
            "metadata": {}, 
            "outputs": [
                {
                    "output_type": "stream", 
                    "name": "stdout", 
                    "text": "Collecting foursquare\n  Downloading https://files.pythonhosted.org/packages/a2/fc/825326248f9caf7c19a58dede1b7f1604573e998dd6f6003cba1701215db/foursquare-1%212019.2.16.tar.gz\nRequirement already satisfied: requests>=2.1 in /opt/conda/envs/DSX-Python35/lib/python3.5/site-packages (from foursquare) (2.18.4)\nRequirement already satisfied: six in /opt/conda/envs/DSX-Python35/lib/python3.5/site-packages (from foursquare) (1.11.0)\nRequirement already satisfied: chardet<3.1.0,>=3.0.2 in /opt/conda/envs/DSX-Python35/lib/python3.5/site-packages (from requests>=2.1->foursquare) (3.0.4)\nRequirement already satisfied: idna<2.7,>=2.5 in /opt/conda/envs/DSX-Python35/lib/python3.5/site-packages (from requests>=2.1->foursquare) (2.6)\nRequirement already satisfied: urllib3<1.23,>=1.21.1 in /opt/conda/envs/DSX-Python35/lib/python3.5/site-packages (from requests>=2.1->foursquare) (1.22)\nRequirement already satisfied: certifi>=2017.4.17 in /opt/conda/envs/DSX-Python35/lib/python3.5/site-packages (from requests>=2.1->foursquare) (2019.3.9)\nBuilding wheels for collected packages: foursquare\n  Running setup.py bdist_wheel for foursquare ... \u001b[?25ldone\n\u001b[?25h  Stored in directory: /home/dsxuser/.cache/pip/wheels/50/82/db/97c078881efb89f4e89560487926fbadfff87a40e5fe41f6fb\nSuccessfully built foursquare\n\u001b[31mtensorflow 1.3.0 requires tensorflow-tensorboard<0.2.0,>=0.1.0, which is not installed.\u001b[0m\nInstalling collected packages: foursquare\nSuccessfully installed foursquare-1!2019.2.16\n"
                }
            ], 
            "execution_count": 25
        }, 
        {
            "source": "import foursquare\nfrom pandas.io.json import json_normalize # tranform JSON file into a pandas dataframe\nCLIENT_ID = 'client'\nCLIENT_SECRET='secret'\nfs = foursquare.Foursquare(client_id=CLIENT_ID, client_secret=CLIENT_SECRET)", 
            "cell_type": "code", 
            "metadata": {}, 
            "outputs": [], 
            "execution_count": 27
        }, 
        {
            "source": "RADIUS = 500 # 500m, around 5 minutes walking time\n\n# Define a function to search nearby information and convert the result as dataframe\ndef venues_nearby(latitude, longitude, category, verbose=True):    \n    results = fs.venues.search(\n        params = {\n            'query': category, \n            'll': '{},{}'.format(latitude, longitude),\n            'radius': RADIUS,\n            'categoryId': fs_categories[category]\n        }\n    )    \n    df = json_normalize(results['venues'])\n    cols = ['Name','Latitude','Longitude','distance','Address','categories']    \n    if( len(df) == 0 ):        \n        df = pd.DataFrame(columns=cols)\n    else:\n        df.columns\n        print(df.columns)\n        df = df[['name','location.lat','location.lng','location.distance','location.formattedAddress','categories']]\n        df.columns = cols\n    if( verbose ):\n        print('{} \"{}\" venues are found within {}m of location'.format(len(df), category, RADIUS))\n    return df", 
            "cell_type": "code", 
            "metadata": {}, 
            "outputs": [], 
            "execution_count": 46
        }, 
        {
            "source": "df_park_locations.loc[0]", 
            "cell_type": "code", 
            "metadata": {}, 
            "outputs": [
                {
                    "output_type": "execute_result", 
                    "data": {
                        "text/plain": "Location                                     P1\nAddress      Parque Iberoam\u00e9rica, Santo Domingo\nLatitude                                 18.467\nLongitude                              -69.9186\nName: 0, dtype: object"
                    }, 
                    "execution_count": 33, 
                    "metadata": {}
                }
            ], 
            "execution_count": 33
        }, 
        {
            "source": "venues_nearby(df_park_locations.loc[0]['Latitude'], df_park_locations.loc[0]['Longitude'], 'Metro Station').head()", 
            "cell_type": "code", 
            "metadata": {}, 
            "outputs": [
                {
                    "output_type": "stream", 
                    "name": "stdout", 
                    "text": "0 \"Metro Station\" venues are found within 500m of location\n"
                }, 
                {
                    "output_type": "execute_result", 
                    "data": {
                        "text/plain": "Empty DataFrame\nColumns: [Name, Latitude, Longitude, Tips, Users, Visits]\nIndex: []", 
                        "text/html": "<div>\n<style scoped>\n    .dataframe tbody tr th:only-of-type {\n        vertical-align: middle;\n    }\n\n    .dataframe tbody tr th {\n        vertical-align: top;\n    }\n\n    .dataframe thead th {\n        text-align: right;\n    }\n</style>\n<table border=\"1\" class=\"dataframe\">\n  <thead>\n    <tr style=\"text-align: right;\">\n      <th></th>\n      <th>Name</th>\n      <th>Latitude</th>\n      <th>Longitude</th>\n      <th>Tips</th>\n      <th>Users</th>\n      <th>Visits</th>\n    </tr>\n  </thead>\n  <tbody>\n  </tbody>\n</table>\n</div>"
                    }, 
                    "execution_count": 34, 
                    "metadata": {}
                }
            ], 
            "execution_count": 34
        }, 
        {
            "source": "venues_nearby(df_park_locations.loc[0]['Latitude'], df_park_locations.loc[0]['Longitude'], 'Bus Stop').head()", 
            "cell_type": "code", 
            "metadata": {}, 
            "outputs": [
                {
                    "output_type": "stream", 
                    "name": "stdout", 
                    "text": "0 \"Bus Stop\" venues are found within 500m of location\n"
                }, 
                {
                    "output_type": "execute_result", 
                    "data": {
                        "text/plain": "Empty DataFrame\nColumns: [Name, Latitude, Longitude, Tips, Users, Visits]\nIndex: []", 
                        "text/html": "<div>\n<style scoped>\n    .dataframe tbody tr th:only-of-type {\n        vertical-align: middle;\n    }\n\n    .dataframe tbody tr th {\n        vertical-align: top;\n    }\n\n    .dataframe thead th {\n        text-align: right;\n    }\n</style>\n<table border=\"1\" class=\"dataframe\">\n  <thead>\n    <tr style=\"text-align: right;\">\n      <th></th>\n      <th>Name</th>\n      <th>Latitude</th>\n      <th>Longitude</th>\n      <th>Tips</th>\n      <th>Users</th>\n      <th>Visits</th>\n    </tr>\n  </thead>\n  <tbody>\n  </tbody>\n</table>\n</div>"
                    }, 
                    "execution_count": 35, 
                    "metadata": {}
                }
            ], 
            "execution_count": 35
        }, 
        {
            "source": "venues_nearby(df_park_locations.loc[0]['Latitude'], df_park_locations.loc[0]['Longitude'], 'Food').head()", 
            "cell_type": "code", 
            "metadata": {}, 
            "outputs": [
                {
                    "output_type": "stream", 
                    "name": "stdout", 
                    "text": "Index(['categories', 'hasPerk', 'id', 'location.address', 'location.cc',\n       'location.city', 'location.country', 'location.crossStreet',\n       'location.distance', 'location.formattedAddress',\n       'location.labeledLatLngs', 'location.lat', 'location.lng',\n       'location.neighborhood', 'location.postalCode', 'location.state',\n       'name', 'referralId'],\n      dtype='object')\n1 \"Food\" venues are found within 500m of location\n"
                }, 
                {
                    "output_type": "execute_result", 
                    "data": {
                        "text/plain": "                   Name   Latitude  Longitude  distance  \\\n0  Food Court La Sirena  18.463799 -69.919101       357   \n\n                                             Address  \\\n0  [Calle Jos\u00e9 Contreras (Av. Alma Mater), 10103 ...   \n\n                                          categories  \n0  [{'pluralName': 'Food Courts', 'name': 'Food C...  ", 
                        "text/html": "<div>\n<style scoped>\n    .dataframe tbody tr th:only-of-type {\n        vertical-align: middle;\n    }\n\n    .dataframe tbody tr th {\n        vertical-align: top;\n    }\n\n    .dataframe thead th {\n        text-align: right;\n    }\n</style>\n<table border=\"1\" class=\"dataframe\">\n  <thead>\n    <tr style=\"text-align: right;\">\n      <th></th>\n      <th>Name</th>\n      <th>Latitude</th>\n      <th>Longitude</th>\n      <th>distance</th>\n      <th>Address</th>\n      <th>categories</th>\n    </tr>\n  </thead>\n  <tbody>\n    <tr>\n      <th>0</th>\n      <td>Food Court La Sirena</td>\n      <td>18.463799</td>\n      <td>-69.919101</td>\n      <td>357</td>\n      <td>[Calle Jos\u00e9 Contreras (Av. Alma Mater), 10103 ...</td>\n      <td>[{'pluralName': 'Food Courts', 'name': 'Food C...</td>\n    </tr>\n  </tbody>\n</table>\n</div>"
                    }, 
                    "execution_count": 47, 
                    "metadata": {}
                }
            ], 
            "execution_count": 47
        }, 
        {
            "source": "venues_nearby(df_park_locations.loc[0]['Latitude'], df_park_locations.loc[0]['Longitude'], 'Arts & Entertainment').head()", 
            "cell_type": "code", 
            "metadata": {}, 
            "outputs": [
                {
                    "output_type": "stream", 
                    "name": "stdout", 
                    "text": "0 \"Arts & Entertainment\" venues are found within 500m of location\n"
                }, 
                {
                    "output_type": "execute_result", 
                    "data": {
                        "text/plain": "Empty DataFrame\nColumns: [Name, Latitude, Longitude, distance, Address, categories]\nIndex: []", 
                        "text/html": "<div>\n<style scoped>\n    .dataframe tbody tr th:only-of-type {\n        vertical-align: middle;\n    }\n\n    .dataframe tbody tr th {\n        vertical-align: top;\n    }\n\n    .dataframe thead th {\n        text-align: right;\n    }\n</style>\n<table border=\"1\" class=\"dataframe\">\n  <thead>\n    <tr style=\"text-align: right;\">\n      <th></th>\n      <th>Name</th>\n      <th>Latitude</th>\n      <th>Longitude</th>\n      <th>distance</th>\n      <th>Address</th>\n      <th>categories</th>\n    </tr>\n  </thead>\n  <tbody>\n  </tbody>\n</table>\n</div>"
                    }, 
                    "execution_count": 48, 
                    "metadata": {}
                }
            ], 
            "execution_count": 48
        }, 
        {
            "source": "# Methodology", 
            "cell_type": "markdown", 
            "metadata": {}
        }, 
        {
            "source": "Combine with FourSquare API which provides how many venues in different category of Dominican Republic parks, a matrix which captured characteristic of venues nearby park are built. Stakeholder's favorite list is the profile to combine with the matrix to become a weighted matrix of favorite cinema.\n\nThe weighted matrix can be applied on 5 target locations with venues information to generate a ranking result. The the top one on the ranking list can be recommended to the stakeholder.", 
            "cell_type": "markdown", 
            "metadata": {}
        }, 
        {
            "source": "", 
            "cell_type": "code", 
            "metadata": {}, 
            "outputs": [], 
            "execution_count": null
        }, 
        {
            "source": "", 
            "cell_type": "code", 
            "metadata": {}, 
            "outputs": [], 
            "execution_count": null
        }, 
        {
            "source": "", 
            "cell_type": "code", 
            "metadata": {}, 
            "outputs": [], 
            "execution_count": null
        }, 
        {
            "source": "", 
            "cell_type": "code", 
            "metadata": {}, 
            "outputs": [], 
            "execution_count": null
        }, 
        {
            "source": "", 
            "cell_type": "code", 
            "metadata": {}, 
            "outputs": [], 
            "execution_count": null
        }, 
        {
            "source": "", 
            "cell_type": "code", 
            "metadata": {}, 
            "outputs": [], 
            "execution_count": null
        }, 
        {
            "source": "", 
            "cell_type": "code", 
            "metadata": {}, 
            "outputs": [], 
            "execution_count": null
        }, 
        {
            "source": "", 
            "cell_type": "code", 
            "metadata": {}, 
            "outputs": [], 
            "execution_count": null
        }, 
        {
            "source": "", 
            "cell_type": "code", 
            "metadata": {}, 
            "outputs": [], 
            "execution_count": null
        }, 
        {
            "source": "", 
            "cell_type": "code", 
            "metadata": {}, 
            "outputs": [], 
            "execution_count": null
        }, 
        {
            "source": "", 
            "cell_type": "code", 
            "metadata": {}, 
            "outputs": [], 
            "execution_count": null
        }, 
        {
            "source": "", 
            "cell_type": "code", 
            "metadata": {}, 
            "outputs": [], 
            "execution_count": null
        }, 
        {
            "source": "", 
            "cell_type": "code", 
            "metadata": {}, 
            "outputs": [], 
            "execution_count": null
        }, 
        {
            "source": "", 
            "cell_type": "code", 
            "metadata": {}, 
            "outputs": [], 
            "execution_count": null
        }, 
        {
            "source": "", 
            "cell_type": "code", 
            "metadata": {}, 
            "outputs": [], 
            "execution_count": null
        }
    ], 
    "metadata": {
        "kernelspec": {
            "display_name": "Python 3.5", 
            "name": "python3", 
            "language": "python"
        }, 
        "language_info": {
            "mimetype": "text/x-python", 
            "nbconvert_exporter": "python", 
            "version": "3.5.5", 
            "name": "python", 
            "pygments_lexer": "ipython3", 
            "file_extension": ".py", 
            "codemirror_mode": {
                "version": 3, 
                "name": "ipython"
            }
        }
    }, 
    "nbformat": 4
}